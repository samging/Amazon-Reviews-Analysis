{
  "nbformat": 4,
  "nbformat_minor": 0,
  "metadata": {
    "colab": {
      "provenance": []
    },
    "kernelspec": {
      "name": "python3",
      "display_name": "Python 3"
    },
    "language_info": {
      "name": "python"
    }
  },
  "cells": [
    {
      "cell_type": "markdown",
      "source": [
        "**Installing libraries + import**"
      ],
      "metadata": {
        "id": "7sOZLGF5940c"
      }
    },
    {
      "cell_type": "code",
      "source": [
        "!pip install textblob"
      ],
      "metadata": {
        "colab": {
          "base_uri": "https://localhost:8080/"
        },
        "id": "WbkSVFw6968X",
        "outputId": "e39cb4da-4204-4710-dd3f-0cd2be0a3ef8"
      },
      "execution_count": null,
      "outputs": [
        {
          "output_type": "stream",
          "name": "stdout",
          "text": [
            "Requirement already satisfied: textblob in /usr/local/lib/python3.10/dist-packages (0.17.1)\n",
            "Requirement already satisfied: nltk>=3.1 in /usr/local/lib/python3.10/dist-packages (from textblob) (3.8.1)\n",
            "Requirement already satisfied: click in /usr/local/lib/python3.10/dist-packages (from nltk>=3.1->textblob) (8.1.7)\n",
            "Requirement already satisfied: joblib in /usr/local/lib/python3.10/dist-packages (from nltk>=3.1->textblob) (1.4.2)\n",
            "Requirement already satisfied: regex>=2021.8.3 in /usr/local/lib/python3.10/dist-packages (from nltk>=3.1->textblob) (2023.12.25)\n",
            "Requirement already satisfied: tqdm in /usr/local/lib/python3.10/dist-packages (from nltk>=3.1->textblob) (4.66.4)\n"
          ]
        }
      ]
    },
    {
      "cell_type": "code",
      "source": [
        "!pip install pyLDAvis"
      ],
      "metadata": {
        "colab": {
          "base_uri": "https://localhost:8080/"
        },
        "id": "IDBMpPFW-WB0",
        "outputId": "e6f60109-e14d-489b-ad00-6307080fceed"
      },
      "execution_count": null,
      "outputs": [
        {
          "output_type": "stream",
          "name": "stdout",
          "text": [
            "Collecting pyLDAvis\n",
            "  Downloading pyLDAvis-3.4.1-py3-none-any.whl (2.6 MB)\n",
            "\u001b[2K     \u001b[90m━━━━━━━━━━━━━━━━━━━━━━━━━━━━━━━━━━━━━━━━\u001b[0m \u001b[32m2.6/2.6 MB\u001b[0m \u001b[31m9.3 MB/s\u001b[0m eta \u001b[36m0:00:00\u001b[0m\n",
            "\u001b[?25hRequirement already satisfied: numpy>=1.24.2 in /usr/local/lib/python3.10/dist-packages (from pyLDAvis) (1.25.2)\n",
            "Requirement already satisfied: scipy in /usr/local/lib/python3.10/dist-packages (from pyLDAvis) (1.11.4)\n",
            "Requirement already satisfied: pandas>=2.0.0 in /usr/local/lib/python3.10/dist-packages (from pyLDAvis) (2.0.3)\n",
            "Requirement already satisfied: joblib>=1.2.0 in /usr/local/lib/python3.10/dist-packages (from pyLDAvis) (1.4.2)\n",
            "Requirement already satisfied: jinja2 in /usr/local/lib/python3.10/dist-packages (from pyLDAvis) (3.1.4)\n",
            "Requirement already satisfied: numexpr in /usr/local/lib/python3.10/dist-packages (from pyLDAvis) (2.10.0)\n",
            "Collecting funcy (from pyLDAvis)\n",
            "  Downloading funcy-2.0-py2.py3-none-any.whl (30 kB)\n",
            "Requirement already satisfied: scikit-learn>=1.0.0 in /usr/local/lib/python3.10/dist-packages (from pyLDAvis) (1.2.2)\n",
            "Requirement already satisfied: gensim in /usr/local/lib/python3.10/dist-packages (from pyLDAvis) (4.3.2)\n",
            "Requirement already satisfied: setuptools in /usr/local/lib/python3.10/dist-packages (from pyLDAvis) (67.7.2)\n",
            "Requirement already satisfied: python-dateutil>=2.8.2 in /usr/local/lib/python3.10/dist-packages (from pandas>=2.0.0->pyLDAvis) (2.8.2)\n",
            "Requirement already satisfied: pytz>=2020.1 in /usr/local/lib/python3.10/dist-packages (from pandas>=2.0.0->pyLDAvis) (2023.4)\n",
            "Requirement already satisfied: tzdata>=2022.1 in /usr/local/lib/python3.10/dist-packages (from pandas>=2.0.0->pyLDAvis) (2024.1)\n",
            "Requirement already satisfied: threadpoolctl>=2.0.0 in /usr/local/lib/python3.10/dist-packages (from scikit-learn>=1.0.0->pyLDAvis) (3.5.0)\n",
            "Requirement already satisfied: smart-open>=1.8.1 in /usr/local/lib/python3.10/dist-packages (from gensim->pyLDAvis) (6.4.0)\n",
            "Requirement already satisfied: MarkupSafe>=2.0 in /usr/local/lib/python3.10/dist-packages (from jinja2->pyLDAvis) (2.1.5)\n",
            "Requirement already satisfied: six>=1.5 in /usr/local/lib/python3.10/dist-packages (from python-dateutil>=2.8.2->pandas>=2.0.0->pyLDAvis) (1.16.0)\n",
            "Installing collected packages: funcy, pyLDAvis\n",
            "Successfully installed funcy-2.0 pyLDAvis-3.4.1\n"
          ]
        }
      ]
    },
    {
      "cell_type": "code",
      "source": [
        "!pip install gensim"
      ],
      "metadata": {
        "colab": {
          "base_uri": "https://localhost:8080/"
        },
        "id": "LzXP9jhO-HJJ",
        "outputId": "04aae5e0-17b8-42d1-8597-efdd3d84af1d"
      },
      "execution_count": null,
      "outputs": [
        {
          "output_type": "stream",
          "name": "stdout",
          "text": [
            "Requirement already satisfied: gensim in /usr/local/lib/python3.10/dist-packages (4.3.2)\n",
            "Requirement already satisfied: numpy>=1.18.5 in /usr/local/lib/python3.10/dist-packages (from gensim) (1.25.2)\n",
            "Requirement already satisfied: scipy>=1.7.0 in /usr/local/lib/python3.10/dist-packages (from gensim) (1.11.4)\n",
            "Requirement already satisfied: smart-open>=1.8.1 in /usr/local/lib/python3.10/dist-packages (from gensim) (6.4.0)\n"
          ]
        }
      ]
    },
    {
      "cell_type": "code",
      "execution_count": null,
      "metadata": {
        "id": "LbuoewY29dTw"
      },
      "outputs": [],
      "source": [
        "import numpy as np\n",
        "import pandas as pd"
      ]
    },
    {
      "cell_type": "code",
      "source": [
        "import nltk\n",
        "from textblob import TextBlob\n",
        "import gensim\n",
        "from gensim import corpora\n",
        "from gensim.utils import simple_preprocess"
      ],
      "metadata": {
        "id": "12yY_Zle90JY"
      },
      "execution_count": null,
      "outputs": []
    },
    {
      "cell_type": "markdown",
      "source": [
        "visualization tools for NLP"
      ],
      "metadata": {
        "id": "2B3fW9ld-RQX"
      }
    },
    {
      "cell_type": "code",
      "source": [
        "import pyLDAvis\n",
        "import pyLDAvis.gensim_models as gensimvis\n",
        "from wordcloud import WordCloud, STOPWORDS\n",
        "import seaborn as sns\n",
        "import matplotlib.pyplot as plt"
      ],
      "metadata": {
        "id": "yzM6lVzR-Q3l"
      },
      "execution_count": null,
      "outputs": []
    },
    {
      "cell_type": "code",
      "source": [
        "import re\n",
        "import warnings\n",
        "warnings.filterwarnings(\"ignore\")"
      ],
      "metadata": {
        "id": "Z-rNaEV_-DI4"
      },
      "execution_count": null,
      "outputs": []
    },
    {
      "cell_type": "markdown",
      "source": [
        "#Loading datas from datasets & exploring it"
      ],
      "metadata": {
        "id": "LDip3EFL-wkQ"
      }
    },
    {
      "cell_type": "code",
      "source": [
        "import csv\n",
        "\n",
        "file_path = '/content/amazon_reviews.csv'\n",
        "with open(file_path, 'r') as file:\n",
        "    reader = csv.reader(file)\n",
        "    for i, row in enumerate(reader):\n",
        "        if len(row) != 8:  # Assuming there should be 8 columns\n",
        "            print(f\"Line {i + 1} has {len(row)} columns: {row}\")"
      ],
      "metadata": {
        "colab": {
          "base_uri": "https://localhost:8080/"
        },
        "id": "jWmxmp8z-edt",
        "outputId": "7bf9f5ee-3d25-47d3-ad6b-49d9ecc4b996"
      },
      "execution_count": null,
      "outputs": [
        {
          "output_type": "stream",
          "name": "stderr",
          "text": [
            "/usr/local/lib/python3.10/dist-packages/ipykernel/ipkernel.py:283: DeprecationWarning: `should_run_async` will not call `transform_cell` automatically in the future. Please pass the result to `transformed_cell` argument and any exception that happen during thetransform in `preprocessing_exc_tuple` in IPython 7.17 and above.\n",
            "  and should_run_async(code)\n"
          ]
        },
        {
          "output_type": "stream",
          "name": "stdout",
          "text": [
            "Line 3108 has 10 columns: ['f40ec534-9c26-40b2-a20d-b4fmouse pad', ' wireless mouse', \" etc.) it's annoying 😒 I have to waist soooo much time clicking the next page\", ' the next page', ' the next page ... 😑 just till I find the actual item at the lowest price!! waist over 10 minutes... 💀 FIX IT!!!! YOU\\'RE A MULTI-BILLION DOLLAR COMPANY!!! FFFFFFFF*CK!!! 🔥\"', '2', '6', '22.7.0.100', '2021-05-04 17:36:17', '22.7.0.100']\n",
            "Line 5602 has 10 columns: ['52f1b032-c07f-4719-a0a6-0bc71190633d', 'Michael Wagner', \"This company is turning into garbage. Products don't arrive quickly (even though you pay for it). Quality has e5e0d1d48\", 'Michelle Ward', 'good value items more often then not cheaper then anywhere else and prompt more often then not next day delivery and you are given a delivery window of time which is never wrong all in all excellent out of five I would give 6 if I could', '5', '0', '28.5.2.100', '2024-03-21 15:13:04', '28.5.2.100']\n"
          ]
        }
      ]
    },
    {
      "cell_type": "markdown",
      "source": [
        "removing problematic rows"
      ],
      "metadata": {
        "id": "S7THZtjUASmX"
      }
    },
    {
      "cell_type": "code",
      "source": [
        "import shutil\n",
        "\n",
        "original_file_path = '/content/amazon_reviews.csv'\n",
        "copy_file_path = '/content/amazon_reviews_copy.csv'\n",
        "\n",
        "# Create a copy of the original file\n",
        "shutil.copyfile(original_file_path, copy_file_path)"
      ],
      "metadata": {
        "colab": {
          "base_uri": "https://localhost:8080/",
          "height": 90
        },
        "id": "siGcl6s8_IMh",
        "outputId": "0f6496fd-dc49-4364-fe31-799b23e3d829"
      },
      "execution_count": null,
      "outputs": [
        {
          "output_type": "stream",
          "name": "stderr",
          "text": [
            "/usr/local/lib/python3.10/dist-packages/ipykernel/ipkernel.py:283: DeprecationWarning: `should_run_async` will not call `transform_cell` automatically in the future. Please pass the result to `transformed_cell` argument and any exception that happen during thetransform in `preprocessing_exc_tuple` in IPython 7.17 and above.\n",
            "  and should_run_async(code)\n"
          ]
        },
        {
          "output_type": "execute_result",
          "data": {
            "text/plain": [
              "'/content/amazon_reviews_copy.csv'"
            ],
            "application/vnd.google.colaboratory.intrinsic+json": {
              "type": "string"
            }
          },
          "metadata": {},
          "execution_count": 24
        }
      ]
    },
    {
      "cell_type": "code",
      "source": [
        "import shutil\n",
        "import csv\n",
        "import pandas as pd\n",
        "from io import StringIO\n",
        "\n",
        "original_file_path = '/content/amazon_reviews.csv'\n",
        "copy_file_path = '/content/amazon_reviews_copy.csv'\n",
        "shutil.copyfile(original_file_path, copy_file_path)\n",
        "\n",
        "def filter_lines(file_path, lines_to_skip):\n",
        "    with open(file_path, 'r') as file:\n",
        "        lines = file.readlines()\n",
        "\n",
        "    filtered_lines = [line for i, line in enumerate(lines) if i + 1 not in lines_to_skip]\n",
        "    return StringIO(''.join(filtered_lines))\n",
        "\n",
        "lines_to_skip = [3108, 5602]\n",
        "\n",
        "filtered_data = filter_lines(copy_file_path, lines_to_skip)\n",
        "amazon_df = pd.read_csv(filtered_data)\n",
        "\n",
        "print(\"Shape: {}\\nColumns: {}\".format(amazon_df.shape, amazon_df.columns))\n",
        "\n",
        "cleaned_file_path = '/content/amazon_reviews_cleaned.csv'\n",
        "amazon_df.to_csv(cleaned_file_path, index=False)\n",
        "print(f\"Cleaned data saved to {cleaned_file_path}\")\n"
      ],
      "metadata": {
        "colab": {
          "base_uri": "https://localhost:8080/"
        },
        "id": "QnNMVDujAa2N",
        "outputId": "d4f767dd-3d96-4aa6-d654-59c15af98b8e"
      },
      "execution_count": null,
      "outputs": [
        {
          "output_type": "stream",
          "name": "stderr",
          "text": [
            "/usr/local/lib/python3.10/dist-packages/ipykernel/ipkernel.py:283: DeprecationWarning: `should_run_async` will not call `transform_cell` automatically in the future. Please pass the result to `transformed_cell` argument and any exception that happen during thetransform in `preprocessing_exc_tuple` in IPython 7.17 and above.\n",
            "  and should_run_async(code)\n"
          ]
        },
        {
          "output_type": "stream",
          "name": "stdout",
          "text": [
            "Shape: (51430, 8)\n",
            "Columns: Index(['reviewId', 'userName', 'content', 'score', 'thumbsUpCount',\n",
            "       'reviewCreatedVersion', 'at', 'appVersion'],\n",
            "      dtype='object')\n",
            "Cleaned data saved to /content/amazon_reviews_cleaned.csv\n"
          ]
        }
      ]
    },
    {
      "cell_type": "code",
      "source": [
        "amazon_dfc = pd.read_csv('/content/amazon_reviews_cleaned.csv')\n",
        "print(\"Shape: {}\\nColumns: {}\".format(amazon_dfc.shape, amazon_dfc.shape))"
      ],
      "metadata": {
        "colab": {
          "base_uri": "https://localhost:8080/"
        },
        "id": "jrXYI9RCBA8f",
        "outputId": "a907454e-121d-4a21-a8fd-5ee2f88ac1f8"
      },
      "execution_count": null,
      "outputs": [
        {
          "output_type": "stream",
          "name": "stderr",
          "text": [
            "/usr/local/lib/python3.10/dist-packages/ipykernel/ipkernel.py:283: DeprecationWarning: `should_run_async` will not call `transform_cell` automatically in the future. Please pass the result to `transformed_cell` argument and any exception that happen during thetransform in `preprocessing_exc_tuple` in IPython 7.17 and above.\n",
            "  and should_run_async(code)\n"
          ]
        },
        {
          "output_type": "stream",
          "name": "stdout",
          "text": [
            "Shape: (51430, 8)\n",
            "Columns: (51430, 8)\n"
          ]
        }
      ]
    },
    {
      "cell_type": "code",
      "source": [
        "amazon_dfc.columns"
      ],
      "metadata": {
        "colab": {
          "base_uri": "https://localhost:8080/"
        },
        "id": "aALlQpE2BEY2",
        "outputId": "fb31cdb9-109d-4625-bd71-c02033528585"
      },
      "execution_count": null,
      "outputs": [
        {
          "output_type": "stream",
          "name": "stderr",
          "text": [
            "/usr/local/lib/python3.10/dist-packages/ipykernel/ipkernel.py:283: DeprecationWarning: `should_run_async` will not call `transform_cell` automatically in the future. Please pass the result to `transformed_cell` argument and any exception that happen during thetransform in `preprocessing_exc_tuple` in IPython 7.17 and above.\n",
            "  and should_run_async(code)\n"
          ]
        },
        {
          "output_type": "execute_result",
          "data": {
            "text/plain": [
              "Index(['reviewId', 'userName', 'content', 'score', 'thumbsUpCount',\n",
              "       'reviewCreatedVersion', 'at', 'appVersion'],\n",
              "      dtype='object')"
            ]
          },
          "metadata": {},
          "execution_count": 32
        }
      ]
    },
    {
      "cell_type": "markdown",
      "source": [
        "## Preprocessing Text Data"
      ],
      "metadata": {
        "id": "DNqoSnzVB0sj"
      }
    },
    {
      "cell_type": "code",
      "source": [
        "def simple_preprocess(text):\n",
        "    text = text.lower()  # Convert text to lowercase\n",
        "    text = re.sub(r'[^\\w\\s]', '', text)  # Removing all punctuation in text\n",
        "    text = re.sub(r'\\d+', '', text)  # Removing all digits in text\n",
        "    text = text.strip()  # Removing whitespace\n",
        "    return text\n"
      ],
      "metadata": {
        "colab": {
          "base_uri": "https://localhost:8080/"
        },
        "id": "H7-U-gxXBTe_",
        "outputId": "bc2a0b94-1a8a-48f9-f7ec-ba45e87b7bb8"
      },
      "execution_count": null,
      "outputs": [
        {
          "output_type": "stream",
          "name": "stderr",
          "text": [
            "/usr/local/lib/python3.10/dist-packages/ipykernel/ipkernel.py:283: DeprecationWarning: `should_run_async` will not call `transform_cell` automatically in the future. Please pass the result to `transformed_cell` argument and any exception that happen during thetransform in `preprocessing_exc_tuple` in IPython 7.17 and above.\n",
            "  and should_run_async(code)\n"
          ]
        }
      ]
    },
    {
      "cell_type": "code",
      "source": [
        "amazon_dfc['content_c'] = amazon_dfc['content'].apply(preprocess_text)\n",
        "amazon_dfc.head()"
      ],
      "metadata": {
        "colab": {
          "base_uri": "https://localhost:8080/",
          "height": 532
        },
        "id": "QGbpnOtuCWX3",
        "outputId": "f26493b1-e355-49a1-86a1-0d07385b1c5a"
      },
      "execution_count": null,
      "outputs": [
        {
          "output_type": "stream",
          "name": "stderr",
          "text": [
            "/usr/local/lib/python3.10/dist-packages/ipykernel/ipkernel.py:283: DeprecationWarning: `should_run_async` will not call `transform_cell` automatically in the future. Please pass the result to `transformed_cell` argument and any exception that happen during thetransform in `preprocessing_exc_tuple` in IPython 7.17 and above.\n",
            "  and should_run_async(code)\n"
          ]
        },
        {
          "output_type": "error",
          "ename": "KeyError",
          "evalue": "'content'",
          "traceback": [
            "\u001b[0;31m---------------------------------------------------------------------------\u001b[0m",
            "\u001b[0;31mKeyError\u001b[0m                                  Traceback (most recent call last)",
            "\u001b[0;32m/usr/local/lib/python3.10/dist-packages/pandas/core/indexes/base.py\u001b[0m in \u001b[0;36mget_loc\u001b[0;34m(self, key)\u001b[0m\n\u001b[1;32m   3652\u001b[0m         \u001b[0;32mtry\u001b[0m\u001b[0;34m:\u001b[0m\u001b[0;34m\u001b[0m\u001b[0;34m\u001b[0m\u001b[0m\n\u001b[0;32m-> 3653\u001b[0;31m             \u001b[0;32mreturn\u001b[0m \u001b[0mself\u001b[0m\u001b[0;34m.\u001b[0m\u001b[0m_engine\u001b[0m\u001b[0;34m.\u001b[0m\u001b[0mget_loc\u001b[0m\u001b[0;34m(\u001b[0m\u001b[0mcasted_key\u001b[0m\u001b[0;34m)\u001b[0m\u001b[0;34m\u001b[0m\u001b[0;34m\u001b[0m\u001b[0m\n\u001b[0m\u001b[1;32m   3654\u001b[0m         \u001b[0;32mexcept\u001b[0m \u001b[0mKeyError\u001b[0m \u001b[0;32mas\u001b[0m \u001b[0merr\u001b[0m\u001b[0;34m:\u001b[0m\u001b[0;34m\u001b[0m\u001b[0;34m\u001b[0m\u001b[0m\n",
            "\u001b[0;32m/usr/local/lib/python3.10/dist-packages/pandas/_libs/index.pyx\u001b[0m in \u001b[0;36mpandas._libs.index.IndexEngine.get_loc\u001b[0;34m()\u001b[0m\n",
            "\u001b[0;32m/usr/local/lib/python3.10/dist-packages/pandas/_libs/index.pyx\u001b[0m in \u001b[0;36mpandas._libs.index.IndexEngine.get_loc\u001b[0;34m()\u001b[0m\n",
            "\u001b[0;32mpandas/_libs/hashtable_class_helper.pxi\u001b[0m in \u001b[0;36mpandas._libs.hashtable.PyObjectHashTable.get_item\u001b[0;34m()\u001b[0m\n",
            "\u001b[0;32mpandas/_libs/hashtable_class_helper.pxi\u001b[0m in \u001b[0;36mpandas._libs.hashtable.PyObjectHashTable.get_item\u001b[0;34m()\u001b[0m\n",
            "\u001b[0;31mKeyError\u001b[0m: 'content'",
            "\nThe above exception was the direct cause of the following exception:\n",
            "\u001b[0;31mKeyError\u001b[0m                                  Traceback (most recent call last)",
            "\u001b[0;32m<ipython-input-66-f8289cc57c9f>\u001b[0m in \u001b[0;36m<cell line: 1>\u001b[0;34m()\u001b[0m\n\u001b[0;32m----> 1\u001b[0;31m \u001b[0mamazon_dfc\u001b[0m\u001b[0;34m[\u001b[0m\u001b[0;34m'content_c'\u001b[0m\u001b[0;34m]\u001b[0m \u001b[0;34m=\u001b[0m \u001b[0mamazon_dfc\u001b[0m\u001b[0;34m[\u001b[0m\u001b[0;34m'content'\u001b[0m\u001b[0;34m]\u001b[0m\u001b[0;34m.\u001b[0m\u001b[0mapply\u001b[0m\u001b[0;34m(\u001b[0m\u001b[0mpreprocess_text\u001b[0m\u001b[0;34m)\u001b[0m\u001b[0;34m\u001b[0m\u001b[0;34m\u001b[0m\u001b[0m\n\u001b[0m\u001b[1;32m      2\u001b[0m \u001b[0mamazon_dfc\u001b[0m\u001b[0;34m.\u001b[0m\u001b[0mhead\u001b[0m\u001b[0;34m(\u001b[0m\u001b[0;34m)\u001b[0m\u001b[0;34m\u001b[0m\u001b[0;34m\u001b[0m\u001b[0m\n",
            "\u001b[0;32m/usr/local/lib/python3.10/dist-packages/pandas/core/frame.py\u001b[0m in \u001b[0;36m__getitem__\u001b[0;34m(self, key)\u001b[0m\n\u001b[1;32m   3759\u001b[0m             \u001b[0;32mif\u001b[0m \u001b[0mself\u001b[0m\u001b[0;34m.\u001b[0m\u001b[0mcolumns\u001b[0m\u001b[0;34m.\u001b[0m\u001b[0mnlevels\u001b[0m \u001b[0;34m>\u001b[0m \u001b[0;36m1\u001b[0m\u001b[0;34m:\u001b[0m\u001b[0;34m\u001b[0m\u001b[0;34m\u001b[0m\u001b[0m\n\u001b[1;32m   3760\u001b[0m                 \u001b[0;32mreturn\u001b[0m \u001b[0mself\u001b[0m\u001b[0;34m.\u001b[0m\u001b[0m_getitem_multilevel\u001b[0m\u001b[0;34m(\u001b[0m\u001b[0mkey\u001b[0m\u001b[0;34m)\u001b[0m\u001b[0;34m\u001b[0m\u001b[0;34m\u001b[0m\u001b[0m\n\u001b[0;32m-> 3761\u001b[0;31m             \u001b[0mindexer\u001b[0m \u001b[0;34m=\u001b[0m \u001b[0mself\u001b[0m\u001b[0;34m.\u001b[0m\u001b[0mcolumns\u001b[0m\u001b[0;34m.\u001b[0m\u001b[0mget_loc\u001b[0m\u001b[0;34m(\u001b[0m\u001b[0mkey\u001b[0m\u001b[0;34m)\u001b[0m\u001b[0;34m\u001b[0m\u001b[0;34m\u001b[0m\u001b[0m\n\u001b[0m\u001b[1;32m   3762\u001b[0m             \u001b[0;32mif\u001b[0m \u001b[0mis_integer\u001b[0m\u001b[0;34m(\u001b[0m\u001b[0mindexer\u001b[0m\u001b[0;34m)\u001b[0m\u001b[0;34m:\u001b[0m\u001b[0;34m\u001b[0m\u001b[0;34m\u001b[0m\u001b[0m\n\u001b[1;32m   3763\u001b[0m                 \u001b[0mindexer\u001b[0m \u001b[0;34m=\u001b[0m \u001b[0;34m[\u001b[0m\u001b[0mindexer\u001b[0m\u001b[0;34m]\u001b[0m\u001b[0;34m\u001b[0m\u001b[0;34m\u001b[0m\u001b[0m\n",
            "\u001b[0;32m/usr/local/lib/python3.10/dist-packages/pandas/core/indexes/base.py\u001b[0m in \u001b[0;36mget_loc\u001b[0;34m(self, key)\u001b[0m\n\u001b[1;32m   3653\u001b[0m             \u001b[0;32mreturn\u001b[0m \u001b[0mself\u001b[0m\u001b[0;34m.\u001b[0m\u001b[0m_engine\u001b[0m\u001b[0;34m.\u001b[0m\u001b[0mget_loc\u001b[0m\u001b[0;34m(\u001b[0m\u001b[0mcasted_key\u001b[0m\u001b[0;34m)\u001b[0m\u001b[0;34m\u001b[0m\u001b[0;34m\u001b[0m\u001b[0m\n\u001b[1;32m   3654\u001b[0m         \u001b[0;32mexcept\u001b[0m \u001b[0mKeyError\u001b[0m \u001b[0;32mas\u001b[0m \u001b[0merr\u001b[0m\u001b[0;34m:\u001b[0m\u001b[0;34m\u001b[0m\u001b[0;34m\u001b[0m\u001b[0m\n\u001b[0;32m-> 3655\u001b[0;31m             \u001b[0;32mraise\u001b[0m \u001b[0mKeyError\u001b[0m\u001b[0;34m(\u001b[0m\u001b[0mkey\u001b[0m\u001b[0;34m)\u001b[0m \u001b[0;32mfrom\u001b[0m \u001b[0merr\u001b[0m\u001b[0;34m\u001b[0m\u001b[0;34m\u001b[0m\u001b[0m\n\u001b[0m\u001b[1;32m   3656\u001b[0m         \u001b[0;32mexcept\u001b[0m \u001b[0mTypeError\u001b[0m\u001b[0;34m:\u001b[0m\u001b[0;34m\u001b[0m\u001b[0;34m\u001b[0m\u001b[0m\n\u001b[1;32m   3657\u001b[0m             \u001b[0;31m# If we have a listlike key, _check_indexing_error will raise\u001b[0m\u001b[0;34m\u001b[0m\u001b[0;34m\u001b[0m\u001b[0m\n",
            "\u001b[0;31mKeyError\u001b[0m: 'content'"
          ]
        }
      ]
    },
    {
      "cell_type": "code",
      "source": [
        "amazon_dfc.isnull()\n",
        "total_null_values = amazon_dfc.isnull().sum().sum()\n",
        "print(\"Total null values: {}\".format(total_null_values))"
      ],
      "metadata": {
        "colab": {
          "base_uri": "https://localhost:8080/"
        },
        "id": "Xbik5bWVClNE",
        "outputId": "7fec628e-eaa5-4f69-f595-6a0dfecb6354"
      },
      "execution_count": null,
      "outputs": [
        {
          "output_type": "stream",
          "name": "stdout",
          "text": [
            "Total null values: 0\n"
          ]
        },
        {
          "output_type": "stream",
          "name": "stderr",
          "text": [
            "/usr/local/lib/python3.10/dist-packages/ipykernel/ipkernel.py:283: DeprecationWarning: `should_run_async` will not call `transform_cell` automatically in the future. Please pass the result to `transformed_cell` argument and any exception that happen during thetransform in `preprocessing_exc_tuple` in IPython 7.17 and above.\n",
            "  and should_run_async(code)\n"
          ]
        }
      ]
    },
    {
      "cell_type": "code",
      "source": [
        "amazon_dfc.fillna('', inplace=True)"
      ],
      "metadata": {
        "colab": {
          "base_uri": "https://localhost:8080/"
        },
        "id": "BIgjgzHeDCip",
        "outputId": "8874960c-69c4-4608-dbce-f9e74d3f1a25"
      },
      "execution_count": null,
      "outputs": [
        {
          "output_type": "stream",
          "name": "stderr",
          "text": [
            "/usr/local/lib/python3.10/dist-packages/ipykernel/ipkernel.py:283: DeprecationWarning: `should_run_async` will not call `transform_cell` automatically in the future. Please pass the result to `transformed_cell` argument and any exception that happen during thetransform in `preprocessing_exc_tuple` in IPython 7.17 and above.\n",
            "  and should_run_async(code)\n"
          ]
        }
      ]
    },
    {
      "cell_type": "code",
      "source": [
        "amazon_dfc['at'] = pd.to_datetime(amazon_dfc['at'])"
      ],
      "metadata": {
        "colab": {
          "base_uri": "https://localhost:8080/"
        },
        "id": "KRc_G77gDHEZ",
        "outputId": "213bbb8d-a772-48f5-fcc3-35e4d087064d"
      },
      "execution_count": null,
      "outputs": [
        {
          "output_type": "stream",
          "name": "stderr",
          "text": [
            "/usr/local/lib/python3.10/dist-packages/ipykernel/ipkernel.py:283: DeprecationWarning: `should_run_async` will not call `transform_cell` automatically in the future. Please pass the result to `transformed_cell` argument and any exception that happen during thetransform in `preprocessing_exc_tuple` in IPython 7.17 and above.\n",
            "  and should_run_async(code)\n"
          ]
        }
      ]
    },
    {
      "cell_type": "code",
      "source": [
        "amazon_dfc = amazon_dfc[['content_c', 'score', 'reviewId', 'at']]\n",
        "amazon_dfc.head()"
      ],
      "metadata": {
        "colab": {
          "base_uri": "https://localhost:8080/",
          "height": 347
        },
        "id": "sbX-LN-lDS85",
        "outputId": "b51f0178-b2d5-40ce-ac4c-af65aea1c4a8"
      },
      "execution_count": null,
      "outputs": [
        {
          "output_type": "stream",
          "name": "stderr",
          "text": [
            "/usr/local/lib/python3.10/dist-packages/ipykernel/ipkernel.py:283: DeprecationWarning: `should_run_async` will not call `transform_cell` automatically in the future. Please pass the result to `transformed_cell` argument and any exception that happen during thetransform in `preprocessing_exc_tuple` in IPython 7.17 and above.\n",
            "  and should_run_async(code)\n"
          ]
        },
        {
          "output_type": "execute_result",
          "data": {
            "text/plain": [
              "                                           content_c  score  \\\n",
              "0  these cretins are the enshittification cycle w...      1   \n",
              "1                                              great      5   \n",
              "2  they put ads onto prime video and im not payin...      1   \n",
              "3  bug on samsung the app can only use mobil data...      3   \n",
              "4  would be better if you could buy gift cards wi...      1   \n",
              "\n",
              "                               reviewId                  at  \n",
              "0  15804c52-84bb-4007-990b-49252480c565 2024-05-23 22:47:16  \n",
              "1  a07ee4ff-69cb-48e2-814f-1a21d3d50505 2024-05-23 22:10:44  \n",
              "2  bf28408e-e8cd-4e81-83e5-1da880e12d7a 2024-05-23 22:04:28  \n",
              "3  852de0e2-459e-4416-ae4a-3f2250f41833 2024-05-23 21:56:19  \n",
              "4  1f388927-eba1-43bf-9fa4-5dd006e6d28c 2024-05-23 21:45:19  "
            ],
            "text/html": [
              "\n",
              "  <div id=\"df-51fbd29d-6354-4190-9eb2-174b6ffb1a98\" class=\"colab-df-container\">\n",
              "    <div>\n",
              "<style scoped>\n",
              "    .dataframe tbody tr th:only-of-type {\n",
              "        vertical-align: middle;\n",
              "    }\n",
              "\n",
              "    .dataframe tbody tr th {\n",
              "        vertical-align: top;\n",
              "    }\n",
              "\n",
              "    .dataframe thead th {\n",
              "        text-align: right;\n",
              "    }\n",
              "</style>\n",
              "<table border=\"1\" class=\"dataframe\">\n",
              "  <thead>\n",
              "    <tr style=\"text-align: right;\">\n",
              "      <th></th>\n",
              "      <th>content_c</th>\n",
              "      <th>score</th>\n",
              "      <th>reviewId</th>\n",
              "      <th>at</th>\n",
              "    </tr>\n",
              "  </thead>\n",
              "  <tbody>\n",
              "    <tr>\n",
              "      <th>0</th>\n",
              "      <td>these cretins are the enshittification cycle w...</td>\n",
              "      <td>1</td>\n",
              "      <td>15804c52-84bb-4007-990b-49252480c565</td>\n",
              "      <td>2024-05-23 22:47:16</td>\n",
              "    </tr>\n",
              "    <tr>\n",
              "      <th>1</th>\n",
              "      <td>great</td>\n",
              "      <td>5</td>\n",
              "      <td>a07ee4ff-69cb-48e2-814f-1a21d3d50505</td>\n",
              "      <td>2024-05-23 22:10:44</td>\n",
              "    </tr>\n",
              "    <tr>\n",
              "      <th>2</th>\n",
              "      <td>they put ads onto prime video and im not payin...</td>\n",
              "      <td>1</td>\n",
              "      <td>bf28408e-e8cd-4e81-83e5-1da880e12d7a</td>\n",
              "      <td>2024-05-23 22:04:28</td>\n",
              "    </tr>\n",
              "    <tr>\n",
              "      <th>3</th>\n",
              "      <td>bug on samsung the app can only use mobil data...</td>\n",
              "      <td>3</td>\n",
              "      <td>852de0e2-459e-4416-ae4a-3f2250f41833</td>\n",
              "      <td>2024-05-23 21:56:19</td>\n",
              "    </tr>\n",
              "    <tr>\n",
              "      <th>4</th>\n",
              "      <td>would be better if you could buy gift cards wi...</td>\n",
              "      <td>1</td>\n",
              "      <td>1f388927-eba1-43bf-9fa4-5dd006e6d28c</td>\n",
              "      <td>2024-05-23 21:45:19</td>\n",
              "    </tr>\n",
              "  </tbody>\n",
              "</table>\n",
              "</div>\n",
              "    <div class=\"colab-df-buttons\">\n",
              "\n",
              "  <div class=\"colab-df-container\">\n",
              "    <button class=\"colab-df-convert\" onclick=\"convertToInteractive('df-51fbd29d-6354-4190-9eb2-174b6ffb1a98')\"\n",
              "            title=\"Convert this dataframe to an interactive table.\"\n",
              "            style=\"display:none;\">\n",
              "\n",
              "  <svg xmlns=\"http://www.w3.org/2000/svg\" height=\"24px\" viewBox=\"0 -960 960 960\">\n",
              "    <path d=\"M120-120v-720h720v720H120Zm60-500h600v-160H180v160Zm220 220h160v-160H400v160Zm0 220h160v-160H400v160ZM180-400h160v-160H180v160Zm440 0h160v-160H620v160ZM180-180h160v-160H180v160Zm440 0h160v-160H620v160Z\"/>\n",
              "  </svg>\n",
              "    </button>\n",
              "\n",
              "  <style>\n",
              "    .colab-df-container {\n",
              "      display:flex;\n",
              "      gap: 12px;\n",
              "    }\n",
              "\n",
              "    .colab-df-convert {\n",
              "      background-color: #E8F0FE;\n",
              "      border: none;\n",
              "      border-radius: 50%;\n",
              "      cursor: pointer;\n",
              "      display: none;\n",
              "      fill: #1967D2;\n",
              "      height: 32px;\n",
              "      padding: 0 0 0 0;\n",
              "      width: 32px;\n",
              "    }\n",
              "\n",
              "    .colab-df-convert:hover {\n",
              "      background-color: #E2EBFA;\n",
              "      box-shadow: 0px 1px 2px rgba(60, 64, 67, 0.3), 0px 1px 3px 1px rgba(60, 64, 67, 0.15);\n",
              "      fill: #174EA6;\n",
              "    }\n",
              "\n",
              "    .colab-df-buttons div {\n",
              "      margin-bottom: 4px;\n",
              "    }\n",
              "\n",
              "    [theme=dark] .colab-df-convert {\n",
              "      background-color: #3B4455;\n",
              "      fill: #D2E3FC;\n",
              "    }\n",
              "\n",
              "    [theme=dark] .colab-df-convert:hover {\n",
              "      background-color: #434B5C;\n",
              "      box-shadow: 0px 1px 3px 1px rgba(0, 0, 0, 0.15);\n",
              "      filter: drop-shadow(0px 1px 2px rgba(0, 0, 0, 0.3));\n",
              "      fill: #FFFFFF;\n",
              "    }\n",
              "  </style>\n",
              "\n",
              "    <script>\n",
              "      const buttonEl =\n",
              "        document.querySelector('#df-51fbd29d-6354-4190-9eb2-174b6ffb1a98 button.colab-df-convert');\n",
              "      buttonEl.style.display =\n",
              "        google.colab.kernel.accessAllowed ? 'block' : 'none';\n",
              "\n",
              "      async function convertToInteractive(key) {\n",
              "        const element = document.querySelector('#df-51fbd29d-6354-4190-9eb2-174b6ffb1a98');\n",
              "        const dataTable =\n",
              "          await google.colab.kernel.invokeFunction('convertToInteractive',\n",
              "                                                    [key], {});\n",
              "        if (!dataTable) return;\n",
              "\n",
              "        const docLinkHtml = 'Like what you see? Visit the ' +\n",
              "          '<a target=\"_blank\" href=https://colab.research.google.com/notebooks/data_table.ipynb>data table notebook</a>'\n",
              "          + ' to learn more about interactive tables.';\n",
              "        element.innerHTML = '';\n",
              "        dataTable['output_type'] = 'display_data';\n",
              "        await google.colab.output.renderOutput(dataTable, element);\n",
              "        const docLink = document.createElement('div');\n",
              "        docLink.innerHTML = docLinkHtml;\n",
              "        element.appendChild(docLink);\n",
              "      }\n",
              "    </script>\n",
              "  </div>\n",
              "\n",
              "\n",
              "<div id=\"df-f7b7636e-ab90-48f6-bd54-73cb096e0cb4\">\n",
              "  <button class=\"colab-df-quickchart\" onclick=\"quickchart('df-f7b7636e-ab90-48f6-bd54-73cb096e0cb4')\"\n",
              "            title=\"Suggest charts\"\n",
              "            style=\"display:none;\">\n",
              "\n",
              "<svg xmlns=\"http://www.w3.org/2000/svg\" height=\"24px\"viewBox=\"0 0 24 24\"\n",
              "     width=\"24px\">\n",
              "    <g>\n",
              "        <path d=\"M19 3H5c-1.1 0-2 .9-2 2v14c0 1.1.9 2 2 2h14c1.1 0 2-.9 2-2V5c0-1.1-.9-2-2-2zM9 17H7v-7h2v7zm4 0h-2V7h2v10zm4 0h-2v-4h2v4z\"/>\n",
              "    </g>\n",
              "</svg>\n",
              "  </button>\n",
              "\n",
              "<style>\n",
              "  .colab-df-quickchart {\n",
              "      --bg-color: #E8F0FE;\n",
              "      --fill-color: #1967D2;\n",
              "      --hover-bg-color: #E2EBFA;\n",
              "      --hover-fill-color: #174EA6;\n",
              "      --disabled-fill-color: #AAA;\n",
              "      --disabled-bg-color: #DDD;\n",
              "  }\n",
              "\n",
              "  [theme=dark] .colab-df-quickchart {\n",
              "      --bg-color: #3B4455;\n",
              "      --fill-color: #D2E3FC;\n",
              "      --hover-bg-color: #434B5C;\n",
              "      --hover-fill-color: #FFFFFF;\n",
              "      --disabled-bg-color: #3B4455;\n",
              "      --disabled-fill-color: #666;\n",
              "  }\n",
              "\n",
              "  .colab-df-quickchart {\n",
              "    background-color: var(--bg-color);\n",
              "    border: none;\n",
              "    border-radius: 50%;\n",
              "    cursor: pointer;\n",
              "    display: none;\n",
              "    fill: var(--fill-color);\n",
              "    height: 32px;\n",
              "    padding: 0;\n",
              "    width: 32px;\n",
              "  }\n",
              "\n",
              "  .colab-df-quickchart:hover {\n",
              "    background-color: var(--hover-bg-color);\n",
              "    box-shadow: 0 1px 2px rgba(60, 64, 67, 0.3), 0 1px 3px 1px rgba(60, 64, 67, 0.15);\n",
              "    fill: var(--button-hover-fill-color);\n",
              "  }\n",
              "\n",
              "  .colab-df-quickchart-complete:disabled,\n",
              "  .colab-df-quickchart-complete:disabled:hover {\n",
              "    background-color: var(--disabled-bg-color);\n",
              "    fill: var(--disabled-fill-color);\n",
              "    box-shadow: none;\n",
              "  }\n",
              "\n",
              "  .colab-df-spinner {\n",
              "    border: 2px solid var(--fill-color);\n",
              "    border-color: transparent;\n",
              "    border-bottom-color: var(--fill-color);\n",
              "    animation:\n",
              "      spin 1s steps(1) infinite;\n",
              "  }\n",
              "\n",
              "  @keyframes spin {\n",
              "    0% {\n",
              "      border-color: transparent;\n",
              "      border-bottom-color: var(--fill-color);\n",
              "      border-left-color: var(--fill-color);\n",
              "    }\n",
              "    20% {\n",
              "      border-color: transparent;\n",
              "      border-left-color: var(--fill-color);\n",
              "      border-top-color: var(--fill-color);\n",
              "    }\n",
              "    30% {\n",
              "      border-color: transparent;\n",
              "      border-left-color: var(--fill-color);\n",
              "      border-top-color: var(--fill-color);\n",
              "      border-right-color: var(--fill-color);\n",
              "    }\n",
              "    40% {\n",
              "      border-color: transparent;\n",
              "      border-right-color: var(--fill-color);\n",
              "      border-top-color: var(--fill-color);\n",
              "    }\n",
              "    60% {\n",
              "      border-color: transparent;\n",
              "      border-right-color: var(--fill-color);\n",
              "    }\n",
              "    80% {\n",
              "      border-color: transparent;\n",
              "      border-right-color: var(--fill-color);\n",
              "      border-bottom-color: var(--fill-color);\n",
              "    }\n",
              "    90% {\n",
              "      border-color: transparent;\n",
              "      border-bottom-color: var(--fill-color);\n",
              "    }\n",
              "  }\n",
              "</style>\n",
              "\n",
              "  <script>\n",
              "    async function quickchart(key) {\n",
              "      const quickchartButtonEl =\n",
              "        document.querySelector('#' + key + ' button');\n",
              "      quickchartButtonEl.disabled = true;  // To prevent multiple clicks.\n",
              "      quickchartButtonEl.classList.add('colab-df-spinner');\n",
              "      try {\n",
              "        const charts = await google.colab.kernel.invokeFunction(\n",
              "            'suggestCharts', [key], {});\n",
              "      } catch (error) {\n",
              "        console.error('Error during call to suggestCharts:', error);\n",
              "      }\n",
              "      quickchartButtonEl.classList.remove('colab-df-spinner');\n",
              "      quickchartButtonEl.classList.add('colab-df-quickchart-complete');\n",
              "    }\n",
              "    (() => {\n",
              "      let quickchartButtonEl =\n",
              "        document.querySelector('#df-f7b7636e-ab90-48f6-bd54-73cb096e0cb4 button');\n",
              "      quickchartButtonEl.style.display =\n",
              "        google.colab.kernel.accessAllowed ? 'block' : 'none';\n",
              "    })();\n",
              "  </script>\n",
              "</div>\n",
              "    </div>\n",
              "  </div>\n"
            ],
            "application/vnd.google.colaboratory.intrinsic+json": {
              "type": "dataframe",
              "variable_name": "amazon_dfc",
              "summary": "{\n  \"name\": \"amazon_dfc\",\n  \"rows\": 51430,\n  \"fields\": [\n    {\n      \"column\": \"content_c\",\n      \"properties\": {\n        \"dtype\": \"string\",\n        \"num_unique_values\": 51142,\n        \"samples\": [\n          \"first experience i have ever had with a nap why the hell i loaded this damn thing i dont know i was wanting to purchase some stuff but you cant purchase nothing something always happens on your end and it crashes dont waste your time loading this app amazon sucks\",\n          \"why am i seeing an ad for lord of the rings on start how do i remove ads super annoying\",\n          \"over the past week app crashes uninstalled  installed still probs\"\n        ],\n        \"semantic_type\": \"\",\n        \"description\": \"\"\n      }\n    },\n    {\n      \"column\": \"score\",\n      \"properties\": {\n        \"dtype\": \"number\",\n        \"std\": 1,\n        \"min\": 1,\n        \"max\": 5,\n        \"num_unique_values\": 5,\n        \"samples\": [\n          5,\n          2,\n          3\n        ],\n        \"semantic_type\": \"\",\n        \"description\": \"\"\n      }\n    },\n    {\n      \"column\": \"reviewId\",\n      \"properties\": {\n        \"dtype\": \"string\",\n        \"num_unique_values\": 51275,\n        \"samples\": [\n          \"5e7154e2-9e5c-49c5-b09e-aab8a76cc00e\",\n          \"43b0c3e9-5f9f-4519-97e0-618017fcc468\",\n          \"b6885543-f9f0-436b-8eda-cd4539c9a51d\"\n        ],\n        \"semantic_type\": \"\",\n        \"description\": \"\"\n      }\n    },\n    {\n      \"column\": \"at\",\n      \"properties\": {\n        \"dtype\": \"date\",\n        \"min\": \"2018-09-12 10:08:56\",\n        \"max\": \"2024-05-23 22:47:16\",\n        \"num_unique_values\": 51293,\n        \"samples\": [\n          \"2021-03-27 02:43:32\",\n          \"2023-08-11 22:06:21\",\n          \"2021-12-11 12:02:49\"\n        ],\n        \"semantic_type\": \"\",\n        \"description\": \"\"\n      }\n    }\n  ]\n}"
            }
          },
          "metadata": {},
          "execution_count": 70
        }
      ]
    },
    {
      "cell_type": "code",
      "source": [
        "#Ranges of datetime\n",
        "print(\"Earlies review date was: {},\\n Latest reveiw was: {}\".format(amazon_dfc['at'].min(), amazon_dfc['at'].max()))"
      ],
      "metadata": {
        "colab": {
          "base_uri": "https://localhost:8080/"
        },
        "id": "C7a6ZtztD5Ev",
        "outputId": "bed23530-f88a-4303-bae0-0aa297274ca7"
      },
      "execution_count": null,
      "outputs": [
        {
          "output_type": "stream",
          "name": "stdout",
          "text": [
            "Earlies review date was: 2018-09-12 10:08:56,\n",
            " Latest reveiw was: 2024-05-23 22:47:16\n"
          ]
        },
        {
          "output_type": "stream",
          "name": "stderr",
          "text": [
            "/usr/local/lib/python3.10/dist-packages/ipykernel/ipkernel.py:283: DeprecationWarning: `should_run_async` will not call `transform_cell` automatically in the future. Please pass the result to `transformed_cell` argument and any exception that happen during thetransform in `preprocessing_exc_tuple` in IPython 7.17 and above.\n",
            "  and should_run_async(code)\n"
          ]
        }
      ]
    },
    {
      "cell_type": "code",
      "source": [
        "score_dist = amazon_dfc.score.value_counts().sort_index()\n",
        "plt.figure(figsize=(8,4))\n",
        "sns.barplot(x=score_dist.index, y=score_dist.values)\n",
        "plt.xlabel('Score')\n",
        "plt.ylabel('Count')\n",
        "plt.title('Distribution of Scores')\n",
        "plt.show()"
      ],
      "metadata": {
        "colab": {
          "base_uri": "https://localhost:8080/",
          "height": 465
        },
        "id": "fzJmn-2KEMHg",
        "outputId": "0eb8fed8-9da7-4163-93c9-2a2d521f9545"
      },
      "execution_count": null,
      "outputs": [
        {
          "output_type": "stream",
          "name": "stderr",
          "text": [
            "/usr/local/lib/python3.10/dist-packages/ipykernel/ipkernel.py:283: DeprecationWarning: `should_run_async` will not call `transform_cell` automatically in the future. Please pass the result to `transformed_cell` argument and any exception that happen during thetransform in `preprocessing_exc_tuple` in IPython 7.17 and above.\n",
            "  and should_run_async(code)\n"
          ]
        },
        {
          "output_type": "display_data",
          "data": {
            "text/plain": [
              "<Figure size 800x400 with 1 Axes>"
            ],
            "image/png": "[encoded data removed]"
          },
          "metadata": {}
        }
      ]
    },
    {
      "cell_type": "markdown",
      "source": [
        "###Polarity"
      ],
      "metadata": {
        "id": "46OVysL5EwyH"
      }
    },
    {
      "cell_type": "code",
      "source": [
        "def get_sentiment(text):\n",
        "  return TextBlob(text).sentiment.polarity"
      ],
      "metadata": {
        "colab": {
          "base_uri": "https://localhost:8080/"
        },
        "id": "H2XKoWnQEq6g",
        "outputId": "e3e334c2-bf23-48f5-9026-d7252813cf9c"
      },
      "execution_count": null,
      "outputs": [
        {
          "output_type": "stream",
          "name": "stderr",
          "text": [
            "/usr/local/lib/python3.10/dist-packages/ipykernel/ipkernel.py:283: DeprecationWarning: `should_run_async` will not call `transform_cell` automatically in the future. Please pass the result to `transformed_cell` argument and any exception that happen during thetransform in `preprocessing_exc_tuple` in IPython 7.17 and above.\n",
            "  and should_run_async(code)\n"
          ]
        }
      ]
    },
    {
      "cell_type": "code",
      "source": [
        "amazon_dfc['sentiment'] = amazon_dfc['content_c'].apply(get_sentiment)\n",
        "amazon_dfc['sentiment_label'] = amazon_dfc['sentiment'].apply(lambda x: 'positive' if x > 0.1 else ('negative' if x < -0.1 else 'neutral'))"
      ],
      "metadata": {
        "colab": {
          "base_uri": "https://localhost:8080/"
        },
        "id": "0AzYLbsBE4m1",
        "outputId": "48aa5776-8b4b-4db2-cd8a-7e8d2b32de7d"
      },
      "execution_count": null,
      "outputs": [
        {
          "output_type": "stream",
          "name": "stderr",
          "text": [
            "/usr/local/lib/python3.10/dist-packages/ipykernel/ipkernel.py:283: DeprecationWarning: `should_run_async` will not call `transform_cell` automatically in the future. Please pass the result to `transformed_cell` argument and any exception that happen during thetransform in `preprocessing_exc_tuple` in IPython 7.17 and above.\n",
            "  and should_run_async(code)\n"
          ]
        }
      ]
    },
    {
      "cell_type": "code",
      "source": [
        "amazon_dfc[['content_c', 'score', 'sentiment_label']]"
      ],
      "metadata": {
        "colab": {
          "base_uri": "https://localhost:8080/",
          "height": 478
        },
        "id": "hpgxPYzUE72G",
        "outputId": "be66e9fe-2417-4048-8f5b-833aefce9870"
      },
      "execution_count": null,
      "outputs": [
        {
          "output_type": "stream",
          "name": "stderr",
          "text": [
            "/usr/local/lib/python3.10/dist-packages/ipykernel/ipkernel.py:283: DeprecationWarning: `should_run_async` will not call `transform_cell` automatically in the future. Please pass the result to `transformed_cell` argument and any exception that happen during thetransform in `preprocessing_exc_tuple` in IPython 7.17 and above.\n",
            "  and should_run_async(code)\n"
          ]
        },
        {
          "output_type": "execute_result",
          "data": {
            "text/plain": [
              "                                               content_c  score  \\\n",
              "0      these cretins are the enshittification cycle w...      1   \n",
              "1                                                  great      5   \n",
              "2      they put ads onto prime video and im not payin...      1   \n",
              "3      bug on samsung the app can only use mobil data...      3   \n",
              "4      would be better if you could buy gift cards wi...      1   \n",
              "...                                                  ...    ...   \n",
              "51425  amazon smile donates make sure you get all set...      5   \n",
              "51426  after having problems with the app and having ...      5   \n",
              "51427  used to be great got greedy they ruined the mu...      1   \n",
              "51428  new search bar location sucks at least give me...      2   \n",
              "51429  for me personally i use amazon prime due to be...      5   \n",
              "\n",
              "      sentiment_label  \n",
              "0            positive  \n",
              "1            positive  \n",
              "2            negative  \n",
              "3             neutral  \n",
              "4            positive  \n",
              "...               ...  \n",
              "51425        positive  \n",
              "51426        positive  \n",
              "51427        positive  \n",
              "51428         neutral  \n",
              "51429         neutral  \n",
              "\n",
              "[51430 rows x 3 columns]"
            ],
            "text/html": [
              "\n",
              "  <div id=\"df-c7143a69-525f-4e6f-9535-aa8ab42d5625\" class=\"colab-df-container\">\n",
              "    <div>\n",
              "<style scoped>\n",
              "    .dataframe tbody tr th:only-of-type {\n",
              "        vertical-align: middle;\n",
              "    }\n",
              "\n",
              "    .dataframe tbody tr th {\n",
              "        vertical-align: top;\n",
              "    }\n",
              "\n",
              "    .dataframe thead th {\n",
              "        text-align: right;\n",
              "    }\n",
              "</style>\n",
              "<table border=\"1\" class=\"dataframe\">\n",
              "  <thead>\n",
              "    <tr style=\"text-align: right;\">\n",
              "      <th></th>\n",
              "      <th>content_c</th>\n",
              "      <th>score</th>\n",
              "      <th>sentiment_label</th>\n",
              "    </tr>\n",
              "  </thead>\n",
              "  <tbody>\n",
              "    <tr>\n",
              "      <th>0</th>\n",
              "      <td>these cretins are the enshittification cycle w...</td>\n",
              "      <td>1</td>\n",
              "      <td>positive</td>\n",
              "    </tr>\n",
              "    <tr>\n",
              "      <th>1</th>\n",
              "      <td>great</td>\n",
              "      <td>5</td>\n",
              "      <td>positive</td>\n",
              "    </tr>\n",
              "    <tr>\n",
              "      <th>2</th>\n",
              "      <td>they put ads onto prime video and im not payin...</td>\n",
              "      <td>1</td>\n",
              "      <td>negative</td>\n",
              "    </tr>\n",
              "    <tr>\n",
              "      <th>3</th>\n",
              "      <td>bug on samsung the app can only use mobil data...</td>\n",
              "      <td>3</td>\n",
              "      <td>neutral</td>\n",
              "    </tr>\n",
              "    <tr>\n",
              "      <th>4</th>\n",
              "      <td>would be better if you could buy gift cards wi...</td>\n",
              "      <td>1</td>\n",
              "      <td>positive</td>\n",
              "    </tr>\n",
              "    <tr>\n",
              "      <th>...</th>\n",
              "      <td>...</td>\n",
              "      <td>...</td>\n",
              "      <td>...</td>\n",
              "    </tr>\n",
              "    <tr>\n",
              "      <th>51425</th>\n",
              "      <td>amazon smile donates make sure you get all set...</td>\n",
              "      <td>5</td>\n",
              "      <td>positive</td>\n",
              "    </tr>\n",
              "    <tr>\n",
              "      <th>51426</th>\n",
              "      <td>after having problems with the app and having ...</td>\n",
              "      <td>5</td>\n",
              "      <td>positive</td>\n",
              "    </tr>\n",
              "    <tr>\n",
              "      <th>51427</th>\n",
              "      <td>used to be great got greedy they ruined the mu...</td>\n",
              "      <td>1</td>\n",
              "      <td>positive</td>\n",
              "    </tr>\n",
              "    <tr>\n",
              "      <th>51428</th>\n",
              "      <td>new search bar location sucks at least give me...</td>\n",
              "      <td>2</td>\n",
              "      <td>neutral</td>\n",
              "    </tr>\n",
              "    <tr>\n",
              "      <th>51429</th>\n",
              "      <td>for me personally i use amazon prime due to be...</td>\n",
              "      <td>5</td>\n",
              "      <td>neutral</td>\n",
              "    </tr>\n",
              "  </tbody>\n",
              "</table>\n",
              "<p>51430 rows × 3 columns</p>\n",
              "</div>\n",
              "    <div class=\"colab-df-buttons\">\n",
              "\n",
              "  <div class=\"colab-df-container\">\n",
              "    <button class=\"colab-df-convert\" onclick=\"convertToInteractive('df-c7143a69-525f-4e6f-9535-aa8ab42d5625')\"\n",
              "            title=\"Convert this dataframe to an interactive table.\"\n",
              "            style=\"display:none;\">\n",
              "\n",
              "  <svg xmlns=\"http://www.w3.org/2000/svg\" height=\"24px\" viewBox=\"0 -960 960 960\">\n",
              "    <path d=\"M120-120v-720h720v720H120Zm60-500h600v-160H180v160Zm220 220h160v-160H400v160Zm0 220h160v-160H400v160ZM180-400h160v-160H180v160Zm440 0h160v-160H620v160ZM180-180h160v-160H180v160Zm440 0h160v-160H620v160Z\"/>\n",
              "  </svg>\n",
              "    </button>\n",
              "\n",
              "  <style>\n",
              "    .colab-df-container {\n",
              "      display:flex;\n",
              "      gap: 12px;\n",
              "    }\n",
              "\n",
              "    .colab-df-convert {\n",
              "      background-color: #E8F0FE;\n",
              "      border: none;\n",
              "      border-radius: 50%;\n",
              "      cursor: pointer;\n",
              "      display: none;\n",
              "      fill: #1967D2;\n",
              "      height: 32px;\n",
              "      padding: 0 0 0 0;\n",
              "      width: 32px;\n",
              "    }\n",
              "\n",
              "    .colab-df-convert:hover {\n",
              "      background-color: #E2EBFA;\n",
              "      box-shadow: 0px 1px 2px rgba(60, 64, 67, 0.3), 0px 1px 3px 1px rgba(60, 64, 67, 0.15);\n",
              "      fill: #174EA6;\n",
              "    }\n",
              "\n",
              "    .colab-df-buttons div {\n",
              "      margin-bottom: 4px;\n",
              "    }\n",
              "\n",
              "    [theme=dark] .colab-df-convert {\n",
              "      background-color: #3B4455;\n",
              "      fill: #D2E3FC;\n",
              "    }\n",
              "\n",
              "    [theme=dark] .colab-df-convert:hover {\n",
              "      background-color: #434B5C;\n",
              "      box-shadow: 0px 1px 3px 1px rgba(0, 0, 0, 0.15);\n",
              "      filter: drop-shadow(0px 1px 2px rgba(0, 0, 0, 0.3));\n",
              "      fill: #FFFFFF;\n",
              "    }\n",
              "  </style>\n",
              "\n",
              "    <script>\n",
              "      const buttonEl =\n",
              "        document.querySelector('#df-c7143a69-525f-4e6f-9535-aa8ab42d5625 button.colab-df-convert');\n",
              "      buttonEl.style.display =\n",
              "        google.colab.kernel.accessAllowed ? 'block' : 'none';\n",
              "\n",
              "      async function convertToInteractive(key) {\n",
              "        const element = document.querySelector('#df-c7143a69-525f-4e6f-9535-aa8ab42d5625');\n",
              "        const dataTable =\n",
              "          await google.colab.kernel.invokeFunction('convertToInteractive',\n",
              "                                                    [key], {});\n",
              "        if (!dataTable) return;\n",
              "\n",
              "        const docLinkHtml = 'Like what you see? Visit the ' +\n",
              "          '<a target=\"_blank\" href=https://colab.research.google.com/notebooks/data_table.ipynb>data table notebook</a>'\n",
              "          + ' to learn more about interactive tables.';\n",
              "        element.innerHTML = '';\n",
              "        dataTable['output_type'] = 'display_data';\n",
              "        await google.colab.output.renderOutput(dataTable, element);\n",
              "        const docLink = document.createElement('div');\n",
              "        docLink.innerHTML = docLinkHtml;\n",
              "        element.appendChild(docLink);\n",
              "      }\n",
              "    </script>\n",
              "  </div>\n",
              "\n",
              "\n",
              "<div id=\"df-491f2502-78cd-4e08-8d98-9414bde0023e\">\n",
              "  <button class=\"colab-df-quickchart\" onclick=\"quickchart('df-491f2502-78cd-4e08-8d98-9414bde0023e')\"\n",
              "            title=\"Suggest charts\"\n",
              "            style=\"display:none;\">\n",
              "\n",
              "<svg xmlns=\"http://www.w3.org/2000/svg\" height=\"24px\"viewBox=\"0 0 24 24\"\n",
              "     width=\"24px\">\n",
              "    <g>\n",
              "        <path d=\"M19 3H5c-1.1 0-2 .9-2 2v14c0 1.1.9 2 2 2h14c1.1 0 2-.9 2-2V5c0-1.1-.9-2-2-2zM9 17H7v-7h2v7zm4 0h-2V7h2v10zm4 0h-2v-4h2v4z\"/>\n",
              "    </g>\n",
              "</svg>\n",
              "  </button>\n",
              "\n",
              "<style>\n",
              "  .colab-df-quickchart {\n",
              "      --bg-color: #E8F0FE;\n",
              "      --fill-color: #1967D2;\n",
              "      --hover-bg-color: #E2EBFA;\n",
              "      --hover-fill-color: #174EA6;\n",
              "      --disabled-fill-color: #AAA;\n",
              "      --disabled-bg-color: #DDD;\n",
              "  }\n",
              "\n",
              "  [theme=dark] .colab-df-quickchart {\n",
              "      --bg-color: #3B4455;\n",
              "      --fill-color: #D2E3FC;\n",
              "      --hover-bg-color: #434B5C;\n",
              "      --hover-fill-color: #FFFFFF;\n",
              "      --disabled-bg-color: #3B4455;\n",
              "      --disabled-fill-color: #666;\n",
              "  }\n",
              "\n",
              "  .colab-df-quickchart {\n",
              "    background-color: var(--bg-color);\n",
              "    border: none;\n",
              "    border-radius: 50%;\n",
              "    cursor: pointer;\n",
              "    display: none;\n",
              "    fill: var(--fill-color);\n",
              "    height: 32px;\n",
              "    padding: 0;\n",
              "    width: 32px;\n",
              "  }\n",
              "\n",
              "  .colab-df-quickchart:hover {\n",
              "    background-color: var(--hover-bg-color);\n",
              "    box-shadow: 0 1px 2px rgba(60, 64, 67, 0.3), 0 1px 3px 1px rgba(60, 64, 67, 0.15);\n",
              "    fill: var(--button-hover-fill-color);\n",
              "  }\n",
              "\n",
              "  .colab-df-quickchart-complete:disabled,\n",
              "  .colab-df-quickchart-complete:disabled:hover {\n",
              "    background-color: var(--disabled-bg-color);\n",
              "    fill: var(--disabled-fill-color);\n",
              "    box-shadow: none;\n",
              "  }\n",
              "\n",
              "  .colab-df-spinner {\n",
              "    border: 2px solid var(--fill-color);\n",
              "    border-color: transparent;\n",
              "    border-bottom-color: var(--fill-color);\n",
              "    animation:\n",
              "      spin 1s steps(1) infinite;\n",
              "  }\n",
              "\n",
              "  @keyframes spin {\n",
              "    0% {\n",
              "      border-color: transparent;\n",
              "      border-bottom-color: var(--fill-color);\n",
              "      border-left-color: var(--fill-color);\n",
              "    }\n",
              "    20% {\n",
              "      border-color: transparent;\n",
              "      border-left-color: var(--fill-color);\n",
              "      border-top-color: var(--fill-color);\n",
              "    }\n",
              "    30% {\n",
              "      border-color: transparent;\n",
              "      border-left-color: var(--fill-color);\n",
              "      border-top-color: var(--fill-color);\n",
              "      border-right-color: var(--fill-color);\n",
              "    }\n",
              "    40% {\n",
              "      border-color: transparent;\n",
              "      border-right-color: var(--fill-color);\n",
              "      border-top-color: var(--fill-color);\n",
              "    }\n",
              "    60% {\n",
              "      border-color: transparent;\n",
              "      border-right-color: var(--fill-color);\n",
              "    }\n",
              "    80% {\n",
              "      border-color: transparent;\n",
              "      border-right-color: var(--fill-color);\n",
              "      border-bottom-color: var(--fill-color);\n",
              "    }\n",
              "    90% {\n",
              "      border-color: transparent;\n",
              "      border-bottom-color: var(--fill-color);\n",
              "    }\n",
              "  }\n",
              "</style>\n",
              "\n",
              "  <script>\n",
              "    async function quickchart(key) {\n",
              "      const quickchartButtonEl =\n",
              "        document.querySelector('#' + key + ' button');\n",
              "      quickchartButtonEl.disabled = true;  // To prevent multiple clicks.\n",
              "      quickchartButtonEl.classList.add('colab-df-spinner');\n",
              "      try {\n",
              "        const charts = await google.colab.kernel.invokeFunction(\n",
              "            'suggestCharts', [key], {});\n",
              "      } catch (error) {\n",
              "        console.error('Error during call to suggestCharts:', error);\n",
              "      }\n",
              "      quickchartButtonEl.classList.remove('colab-df-spinner');\n",
              "      quickchartButtonEl.classList.add('colab-df-quickchart-complete');\n",
              "    }\n",
              "    (() => {\n",
              "      let quickchartButtonEl =\n",
              "        document.querySelector('#df-491f2502-78cd-4e08-8d98-9414bde0023e button');\n",
              "      quickchartButtonEl.style.display =\n",
              "        google.colab.kernel.accessAllowed ? 'block' : 'none';\n",
              "    })();\n",
              "  </script>\n",
              "</div>\n",
              "    </div>\n",
              "  </div>\n"
            ],
            "application/vnd.google.colaboratory.intrinsic+json": {
              "type": "dataframe",
              "summary": "{\n  \"name\": \"amazon_dfc[['content_c', 'score', 'sentiment_label']]\",\n  \"rows\": 51430,\n  \"fields\": [\n    {\n      \"column\": \"content_c\",\n      \"properties\": {\n        \"dtype\": \"string\",\n        \"num_unique_values\": 51142,\n        \"samples\": [\n          \"first experience i have ever had with a nap why the hell i loaded this damn thing i dont know i was wanting to purchase some stuff but you cant purchase nothing something always happens on your end and it crashes dont waste your time loading this app amazon sucks\",\n          \"why am i seeing an ad for lord of the rings on start how do i remove ads super annoying\",\n          \"over the past week app crashes uninstalled  installed still probs\"\n        ],\n        \"semantic_type\": \"\",\n        \"description\": \"\"\n      }\n    },\n    {\n      \"column\": \"score\",\n      \"properties\": {\n        \"dtype\": \"number\",\n        \"std\": 1,\n        \"min\": 1,\n        \"max\": 5,\n        \"num_unique_values\": 5,\n        \"samples\": [\n          5,\n          2,\n          3\n        ],\n        \"semantic_type\": \"\",\n        \"description\": \"\"\n      }\n    },\n    {\n      \"column\": \"sentiment_label\",\n      \"properties\": {\n        \"dtype\": \"category\",\n        \"num_unique_values\": 3,\n        \"samples\": [\n          \"positive\",\n          \"negative\",\n          \"neutral\"\n        ],\n        \"semantic_type\": \"\",\n        \"description\": \"\"\n      }\n    }\n  ]\n}"
            }
          },
          "metadata": {},
          "execution_count": 75
        }
      ]
    },
    {
      "cell_type": "code",
      "source": [
        "plt.figure(figsize=(12, 6))\n",
        "sns.countplot(data=amazon_dfc, x='score', hue='sentiment_label')\n",
        "plt.xlabel('Score')\n",
        "plt.ylabel('Count')\n",
        "plt.title('Sentiment Distribution for Different Scores')\n",
        "plt.legend(title='Sentiment')\n",
        "plt.show()"
      ],
      "metadata": {
        "colab": {
          "base_uri": "https://localhost:8080/",
          "height": 529
        },
        "id": "0TMvDNRhFVFb",
        "outputId": "12b11dcf-bd37-4321-ebda-77c7b0bb5032"
      },
      "execution_count": null,
      "outputs": [
        {
          "output_type": "stream",
          "name": "stderr",
          "text": [
            "/usr/local/lib/python3.10/dist-packages/ipykernel/ipkernel.py:283: DeprecationWarning: `should_run_async` will not call `transform_cell` automatically in the future. Please pass the result to `transformed_cell` argument and any exception that happen during thetransform in `preprocessing_exc_tuple` in IPython 7.17 and above.\n",
            "  and should_run_async(code)\n"
          ]
        },
        {
          "output_type": "display_data",
          "data": {
            "text/plain": [
              "<Figure size 1200x600 with 1 Axes>"
            ],
            "image/png": "[encoded data removed]"
          },
          "metadata": {}
        }
      ]
    },
    {
      "cell_type": "code",
      "source": [
        "# Setting up stopwords for model performance\n",
        "stopwords = set(STOPWORDS)\n",
        "stopwords.update(['amazon', 'movie', 'show', 'time', 'app', 'series', 'phone'])"
      ],
      "metadata": {
        "colab": {
          "base_uri": "https://localhost:8080/"
        },
        "id": "kH6jys5iFhm5",
        "outputId": "00f1f856-e294-47a3-c220-000076027b77"
      },
      "execution_count": null,
      "outputs": [
        {
          "output_type": "stream",
          "name": "stderr",
          "text": [
            "/usr/local/lib/python3.10/dist-packages/ipykernel/ipkernel.py:283: DeprecationWarning: `should_run_async` will not call `transform_cell` automatically in the future. Please pass the result to `transformed_cell` argument and any exception that happen during thetransform in `preprocessing_exc_tuple` in IPython 7.17 and above.\n",
            "  and should_run_async(code)\n"
          ]
        }
      ]
    },
    {
      "cell_type": "code",
      "source": [
        "def preprocess_text_data(text):\n",
        "    tokens = [token for token in text.lower().split() if token.isalnum()] # tokenize text and remove stopwords\n",
        "    return tokens\n",
        "\n",
        "texts = [preprocess_text(text) for text in amazon_dfc[amazon_dfc['sentiment_label']=='negative']['content_c']]"
      ],
      "metadata": {
        "colab": {
          "base_uri": "https://localhost:8080/"
        },
        "id": "AlEBOakEG_fd",
        "outputId": "a4c7d2f6-cae2-49c5-c3b3-8ac8c4857a19"
      },
      "execution_count": null,
      "outputs": [
        {
          "output_type": "stream",
          "name": "stderr",
          "text": [
            "/usr/local/lib/python3.10/dist-packages/ipykernel/ipkernel.py:283: DeprecationWarning: `should_run_async` will not call `transform_cell` automatically in the future. Please pass the result to `transformed_cell` argument and any exception that happen during thetransform in `preprocessing_exc_tuple` in IPython 7.17 and above.\n",
            "  and should_run_async(code)\n"
          ]
        }
      ]
    },
    {
      "cell_type": "code",
      "source": [
        "texts[:5]"
      ],
      "metadata": {
        "colab": {
          "base_uri": "https://localhost:8080/"
        },
        "id": "R3alk6DjHDvE",
        "outputId": "944b5e7b-87de-4cae-a923-83bb047a833e"
      },
      "execution_count": null,
      "outputs": [
        {
          "output_type": "stream",
          "name": "stderr",
          "text": [
            "/usr/local/lib/python3.10/dist-packages/ipykernel/ipkernel.py:283: DeprecationWarning: `should_run_async` will not call `transform_cell` automatically in the future. Please pass the result to `transformed_cell` argument and any exception that happen during thetransform in `preprocessing_exc_tuple` in IPython 7.17 and above.\n",
            "  and should_run_async(code)\n"
          ]
        },
        {
          "output_type": "execute_result",
          "data": {
            "text/plain": [
              "['they put ads onto prime video and im not paying for shipping that not only ships broken items multiple times but also straight up sends the wrong items',\n",
              " 'days ago i got charged by amazon for  i talked to  indian representatives the first guy bibinraj denied the transaction was on my account but then he said i subscribed to the prime membership he said amazon did not have anything to do with it and it was google i already explained the situation to him but all he did was denying all the proofs i gave and repeating things over and over again second guy prashanth was the same those two are the worst',\n",
              " 'hr plus on hold and no one ever bothered to come back i pay from amazon prime so items get delivered within days never happens with the big items always a delay false advertisement amazon',\n",
              " 'rufus needs to go or have a toggle to be disabled the rufus bar is taking up screen space that is blocking elements in the app',\n",
              " 'no complaints here does what it should and well enough for me to not get annoyed with it']"
            ]
          },
          "metadata": {},
          "execution_count": 79
        }
      ]
    },
    {
      "cell_type": "code",
      "source": [
        "# Assuming 'texts' is a list of documents you want to preprocess\n",
        "tokenized_texts = [simple_preprocess(text) for text in texts]\n",
        "tokenized_texts = [[word for word in doc.split() if word not in stopwords] for doc in tokenized_texts]  # Remove stopwords\n",
        "\n",
        "# Create dict and corpus\n",
        "dictionary = corpora.Dictionary(tokenized_texts)\n",
        "corpus = [dictionary.doc2bow(tokens) for tokens in tokenized_texts]"
      ],
      "metadata": {
        "colab": {
          "base_uri": "https://localhost:8080/"
        },
        "id": "-b9GZqcrHkrs",
        "outputId": "30519c79-2645-49f9-e0e3-9b9428a2d527"
      },
      "execution_count": null,
      "outputs": [
        {
          "output_type": "stream",
          "name": "stderr",
          "text": [
            "/usr/local/lib/python3.10/dist-packages/ipykernel/ipkernel.py:283: DeprecationWarning: `should_run_async` will not call `transform_cell` automatically in the future. Please pass the result to `transformed_cell` argument and any exception that happen during thetransform in `preprocessing_exc_tuple` in IPython 7.17 and above.\n",
            "  and should_run_async(code)\n"
          ]
        }
      ]
    },
    {
      "cell_type": "code",
      "source": [
        "lda_model = gensim.models.LdaMulticore(corpus=corpus, id2word=dictionary, num_topics=5, passes=5, workers=2)"
      ],
      "metadata": {
        "colab": {
          "base_uri": "https://localhost:8080/"
        },
        "id": "H2o-byRsHGYF",
        "outputId": "c72390ca-2063-458c-a979-d5e3cd4d2bc2"
      },
      "execution_count": null,
      "outputs": [
        {
          "output_type": "stream",
          "name": "stderr",
          "text": [
            "/usr/local/lib/python3.10/dist-packages/ipykernel/ipkernel.py:283: DeprecationWarning: `should_run_async` will not call `transform_cell` automatically in the future. Please pass the result to `transformed_cell` argument and any exception that happen during thetransform in `preprocessing_exc_tuple` in IPython 7.17 and above.\n",
            "  and should_run_async(code)\n"
          ]
        }
      ]
    },
    {
      "cell_type": "code",
      "source": [
        "topics = lda_model.print_topics(-1)\n",
        "for idx, topic in topics:\n",
        "    print(f\"Topic {idx}: {topic}\")"
      ],
      "metadata": {
        "colab": {
          "base_uri": "https://localhost:8080/"
        },
        "id": "0xiE2oT1HWvI",
        "outputId": "57216c4f-4aa6-4df5-b542-6c85fc53ddc2"
      },
      "execution_count": null,
      "outputs": [
        {
          "output_type": "stream",
          "name": "stdout",
          "text": [
            "Topic 0: 0.012*\"use\" + 0.011*\"notifications\" + 0.010*\"account\" + 0.008*\"dont\" + 0.008*\"cant\" + 0.007*\"bad\" + 0.007*\"change\" + 0.006*\"im\" + 0.006*\"product\" + 0.006*\"slow\"\n",
            "Topic 1: 0.018*\"order\" + 0.017*\"delivery\" + 0.014*\"service\" + 0.012*\"prime\" + 0.012*\"dont\" + 0.010*\"day\" + 0.010*\"customer\" + 0.010*\"now\" + 0.010*\"will\" + 0.010*\"days\"\n",
            "Topic 2: 0.017*\"update\" + 0.016*\"cant\" + 0.013*\"something\" + 0.012*\"wrong\" + 0.010*\"now\" + 0.010*\"orders\" + 0.009*\"slow\" + 0.009*\"even\" + 0.009*\"page\" + 0.009*\"fix\"\n",
            "Topic 3: 0.014*\"search\" + 0.012*\"now\" + 0.010*\"dont\" + 0.009*\"update\" + 0.009*\"use\" + 0.008*\"service\" + 0.008*\"cant\" + 0.007*\"way\" + 0.007*\"back\" + 0.007*\"hate\"\n",
            "Topic 4: 0.018*\"account\" + 0.014*\"customer\" + 0.013*\"service\" + 0.010*\"card\" + 0.010*\"even\" + 0.008*\"experience\" + 0.008*\"cant\" + 0.008*\"worst\" + 0.007*\"prime\" + 0.007*\"bad\"\n"
          ]
        },
        {
          "output_type": "stream",
          "name": "stderr",
          "text": [
            "/usr/local/lib/python3.10/dist-packages/ipykernel/ipkernel.py:283: DeprecationWarning: `should_run_async` will not call `transform_cell` automatically in the future. Please pass the result to `transformed_cell` argument and any exception that happen during thetransform in `preprocessing_exc_tuple` in IPython 7.17 and above.\n",
            "  and should_run_async(code)\n"
          ]
        }
      ]
    },
    {
      "cell_type": "code",
      "source": [
        "vis = gensimvis.prepare(lda_model, corpus, dictionary)\n",
        "pyLDAvis.display(vis)"
      ],
      "metadata": {
        "colab": {
          "base_uri": "https://localhost:8080/",
          "height": 916
        },
        "id": "1rUkO63EHfy3",
        "outputId": "e72676f4-0dec-47b0-c156-9c9e0922e0c8"
      },
      "execution_count": null,
      "outputs": [
        {
          "output_type": "stream",
          "name": "stderr",
          "text": [
            "/usr/local/lib/python3.10/dist-packages/ipykernel/ipkernel.py:283: DeprecationWarning: `should_run_async` will not call `transform_cell` automatically in the future. Please pass the result to `transformed_cell` argument and any exception that happen during thetransform in `preprocessing_exc_tuple` in IPython 7.17 and above.\n",
            "  and should_run_async(code)\n"
          ]
        },
        {
          "output_type": "execute_result",
          "data": {
            "text/plain": [
              "<IPython.core.display.HTML object>"
            ],
            "text/html": [
              "\n",
              "<link rel=\"stylesheet\" type=\"text/css\" href=\"https://cdn.jsdelivr.net/gh/bmabey/pyLDAvis@3.4.0/pyLDAvis/js/ldavis.v1.0.0.css\">\n",
              "\n",
              "\n",
              "<div id=\"ldavis_el4661349116307244483245849329\" style=\"background-color:white;\"></div>\n",
              "<script type=\"text/javascript\">\n",
              "\n",
              "var ldavis_el4661349116307244483245849329_data = {\"mdsDat\": {\"x\": [-0.15063534239979512, 0.022088297277220184, 0.05754042029787304, -0.04533247853296779, 0.11633910335766984], \"y\": [0.026562036967292646, -0.043893108243429506, -0.12893597052774838, 0.028618764953914896, 0.11764827684997017], \"topics\": [1, 2, 3, 4, 5], \"cluster\": [1, 1, 1, 1, 1], \"Freq\": [26.059168662915567, 24.916278308705632, 24.20468023652252, 19.5214358092054, 5.2984369826508875]}, \"tinfo\": {\"Term\": [\"account\", \"delivery\", \"search\", \"update\", \"use\", \"card\", \"slow\", \"delivered\", \"page\", \"order\", \"day\", \"package\", \"cant\", \"days\", \"service\", \"notifications\", \"change\", \"went\", \"late\", \"wrong\", \"packages\", \"customer\", \"something\", \"dont\", \"load\", \"refund\", \"bad\", \"access\", \"bar\", \"product\", \"pm\", \"packages\", \"guaranteed\", \"late\", \"door\", \"porch\", \"office\", \"compensation\", \"mail\", \"saturday\", \"resident\", \"apartment\", \"carrier\", \"arrive\", \"delayed\", \"delivered\", \"anyways\", \"busy\", \"mailbox\", \"knew\", \"anticonsumer\", \"drivers\", \"usps\", \"tuesday\", \"suppose\", \"package\", \"children\", \"packaging\", \"miles\", \"rain\", \"damaged\", \"deliver\", \"tomorrow\", \"shipped\", \"delay\", \"delivery\", \"day\", \"wait\", \"days\", \"house\", \"parcel\", \"th\", \"lie\", \"arrived\", \"driver\", \"shipping\", \"refund\", \"ordered\", \"waiting\", \"order\", \"said\", \"week\", \"ship\", \"pay\", \"receive\", \"prime\", \"come\", \"service\", \"never\", \"will\", \"dont\", \"money\", \"item\", \"customer\", \"items\", \"two\", \"now\", \"im\", \"address\", \"got\", \"one\", \"wrong\", \"even\", \"bad\", \"rufus\", \"human\", \"inspire\", \"map\", \"field\", \"layout\", \"redesign\", \"irrelevant\", \"menus\", \"bot\", \"repair\", \"ui\", \"vibration\", \"style\", \"slows\", \"weekly\", \"optional\", \"sponsored\", \"lockdown\", \"colour\", \"bar\", \"postage\", \"refine\", \"lord\", \"autoplay\", \"jumping\", \"africa\", \"spot\", \"context\", \"known\", \"filter\", \"bottom\", \"alexa\", \"moving\", \"specific\", \"friendly\", \"filters\", \"menu\", \"filtering\", \"ads\", \"moved\", \"search\", \"feature\", \"easy\", \"navigate\", \"results\", \"way\", \"unnecessary\", \"hate\", \"less\", \"options\", \"top\", \"difficult\", \"find\", \"things\", \"much\", \"awful\", \"change\", \"new\", \"horrible\", \"option\", \"annoying\", \"now\", \"back\", \"update\", \"use\", \"dont\", \"want\", \"really\", \"service\", \"cant\", \"items\", \"shopping\", \"terrible\", \"bad\", \"customer\", \"go\", \"will\", \"buy\", \"im\", \"mode\", \"uh\", \"dark\", \"uhoh\", \"oops\", \"dog\", \"theme\", \"dogs\", \"desk\", \"upi\", \"flashes\", \"blank\", \"bugged\", \"favorites\", \"installation\", \"throws\", \"songs\", \"notes\", \"fold\", \"reloading\", \"displays\", \"cookies\", \"launch\", \"wifi\", \"flickers\", \"reinstalled\", \"cancelation\", \"somewhat\", \"refresh\", \"pic\", \"loading\", \"crashing\", \"error\", \"went\", \"page\", \"view\", \"click\", \"scroll\", \"load\", \"unusable\", \"crashes\", \"message\", \"oh\", \"white\", \"cleared\", \"end\", \"something\", \"update\", \"wrong\", \"slow\", \"keeps\", \"orders\", \"fix\", \"open\", \"screen\", \"doesnt\", \"cant\", \"work\", \"see\", \"frustrating\", \"please\", \"try\", \"wont\", \"even\", \"use\", \"now\", \"go\", \"item\", \"anything\", \"items\", \"im\", \"search\", \"every\", \"new\", \"french\", \"twitch\", \"raise\", \"wiped\", \"express\", \"expiration\", \"suspended\", \"hacked\", \"actions\", \"bucks\", \"frankly\", \"reboot\", \"dated\", \"ali\", \"lock\", \"compensate\", \"ae\", \"flaws\", \"operation\", \"boring\", \"fell\", \"owe\", \"shopper\", \"questionable\", \"underground\", \"renewal\", \"statement\", \"overseas\", \"pakistan\", \"cautious\", \"german\", \"file\", \"debit\", \"ap\", \"card\", \"cards\", \"credit\", \"account\", \"speak\", \"bank\", \"accounts\", \"gift\", \"refused\", \"cell\", \"blocked\", \"password\", \"experience\", \"sign\", \"login\", \"security\", \"balance\", \"serious\", \"signing\", \"signed\", \"charged\", \"email\", \"worst\", \"customer\", \"without\", \"help\", \"subscription\", \"recommend\", \"service\", \"ive\", \"products\", \"even\", \"money\", \"bad\", \"problem\", \"still\", \"didnt\", \"prime\", \"got\", \"one\", \"cant\", \"im\", \"terrible\", \"buy\", \"never\", \"use\", \"dont\", \"horrible\", \"now\", \"will\", \"back\", \"order\", \"spanish\", \"\\u0627\\u0645\\u0627\\u0632\\u0648\\u0646\", \"cp\", \"flagged\", \"ear\", \"sound\", \"dat\", \"\\u0645\\u0635\\u0631\", \"addicted\", \"fired\", \"rats\", \"flag\", \"arabia\", \"invasion\", \"blah\", \"etsy\", \"mb\", \"steals\", \"acknowledged\", \"carrying\", \"addictive\", \"adverts\", \"nl\", \"logineven\", \"credentials\", \"practical\", \"amateur\", \"avoiding\", \"survive\", \"bogged\", \"unlocked\", \"saudi\", \"notifications\", \"suspicious\", \"switched\", \"language\", \"silly\", \"according\", \"spam\", \"dissatisfied\", \"development\", \"setting\", \"activity\", \"access\", \"english\", \"loosing\", \"confusing\", \"change\", \"password\", \"locked\", \"account\", \"use\", \"notification\", \"hard\", \"number\", \"product\", \"unable\", \"slow\", \"bad\", \"dont\", \"poor\", \"cant\", \"using\", \"changed\", \"find\", \"im\", \"stop\", \"shopping\", \"email\", \"back\", \"annoying\", \"makes\", \"support\", \"will\", \"without\", \"purchase\"], \"Freq\": [1275.0, 1335.0, 1298.0, 1809.0, 1678.0, 690.0, 935.0, 631.0, 656.0, 1812.0, 802.0, 589.0, 2161.0, 782.0, 2139.0, 204.0, 565.0, 628.0, 432.0, 1275.0, 407.0, 1826.0, 1223.0, 1984.0, 542.0, 648.0, 1287.0, 235.0, 336.0, 641.0, 64.07526713963938, 397.69167828738574, 35.49416617708598, 417.1344085277836, 114.69408499412083, 31.598386027344407, 35.881484308164865, 21.78427021748702, 45.139252487078494, 17.396376004016375, 15.585884589999269, 17.830652033784304, 36.82952260546025, 157.173703774806, 92.59049604186663, 591.7957029089724, 16.320359415165687, 23.659821207923006, 12.283009016566089, 11.13415000901699, 11.043047473396356, 121.64091707848387, 36.88128584892317, 12.059564348951143, 27.40893883451963, 544.8780400460566, 13.69897235015821, 20.557726734945444, 11.257786680263926, 10.40553163741295, 97.69940257961426, 281.5335533257107, 38.13237194880204, 145.87831870131532, 57.836843735017744, 1142.9377330351826, 682.1937174066333, 289.5397253078334, 662.0795141401723, 105.33826614134496, 65.21089744071708, 121.48343624999555, 53.162852780363394, 90.3153710691653, 72.47104496020417, 472.83325061455224, 483.2752126391945, 461.2295042289774, 181.7367249885798, 1200.1300461355834, 292.7503989322256, 189.50452713794647, 103.24431058857859, 308.0808515274159, 179.4084108196841, 803.6814894803814, 202.91862292192087, 944.8344558781162, 650.5370412139738, 662.1857997876679, 789.9423846760109, 501.7139484967916, 484.6450547103207, 663.9096182008026, 575.929463066328, 218.8219298068419, 662.8368071073198, 541.6256621347326, 229.83147511979018, 282.7737689512438, 379.8565261941007, 380.719610169314, 412.1063678080804, 364.3345553946534, 37.162316471874504, 37.649709261484375, 22.494075098488782, 55.92536854408883, 15.923302747130952, 188.76551668236135, 17.979142604091933, 53.922232581836326, 35.49259250085266, 22.43677660948207, 13.580442076029348, 132.84371370602304, 12.288388398733385, 23.163880856260658, 11.905207178271828, 11.712595393132183, 11.455291646375645, 52.27424933687062, 11.255813834010677, 15.361254728091412, 311.6091614825582, 10.721100602762311, 10.162335492475467, 24.05236491636193, 10.862897505123492, 11.027239695590213, 10.006612553998455, 12.615670569344209, 25.32406437464672, 11.628266020943089, 253.88571591820582, 276.0775140064483, 82.44864419990746, 64.08209804110844, 74.6213546885933, 43.68661081625407, 132.12856057726427, 155.3444931803495, 47.801737861483026, 158.71681824347536, 67.06890579029059, 903.6629295728687, 108.49509814314656, 72.88708470406455, 119.8979463844784, 213.1136371301305, 467.86409005773015, 53.54720136247918, 444.79095751933176, 161.2599954667133, 160.2268306434951, 98.08728347199089, 232.3245023424793, 363.2073680892601, 303.6741068427339, 215.537099954283, 235.82164075131828, 288.50274538530294, 380.75714428585445, 422.02822520433983, 259.7517510325031, 399.12742228240273, 730.7050637688552, 461.23977507189244, 601.0380529301191, 545.4927000104605, 606.913990346563, 386.5579424424279, 278.8721210268766, 486.1849156617673, 476.6096259589182, 389.8223324121561, 301.0538985765289, 315.75367397889596, 343.12594272267313, 389.4234617698699, 272.6207829021895, 294.7673259916666, 267.2553313307347, 267.2834124860757, 166.50327979146974, 87.18638016278963, 179.3145398591379, 66.22005536856922, 139.24535907172938, 118.60250062226983, 22.578324517146513, 55.40952139818554, 25.15419422043567, 17.68609436502389, 16.22832424811276, 61.4239537802431, 11.907120700980132, 11.90526230754042, 12.439608299959147, 11.320326915338677, 10.375468901082415, 10.920086757192296, 10.059756480856826, 12.21203003157719, 16.226949521531573, 15.576886906216652, 27.939532053815977, 52.242948194036764, 8.803828889280368, 100.71803285264421, 9.970318492379732, 8.121917843273874, 18.011543833638815, 9.029071378751862, 155.84190544982707, 269.8816418873995, 194.88731335370434, 531.1589167648873, 552.578865437255, 235.69887520986939, 288.4128126272226, 248.2569845821904, 433.0363461613375, 138.46922361976272, 283.1085647148791, 212.9716943652772, 139.0616697570588, 49.5599341674794, 40.86266004835768, 295.87932239418666, 825.1454955016549, 1045.751969038925, 763.1231731327869, 580.2814653389539, 485.21964629708145, 594.6763099259451, 548.6840317240635, 352.2433419421779, 292.1243016047299, 483.4233560409408, 986.0742195234025, 404.1057241819146, 424.62787230519837, 327.5574736366429, 446.20023974922015, 309.9804995400124, 360.6823971833607, 560.1538027252752, 547.9268194014338, 624.0187612239557, 358.7075862973456, 348.374409082798, 313.6626131589285, 369.3393124886995, 373.61232163947284, 357.2066863773025, 321.9416976056718, 305.1566521645516, 36.918561869877195, 21.02461147514217, 17.174873673212737, 14.441256754801575, 23.410739059798093, 12.758720093711991, 14.17365731360893, 37.16903811961759, 12.081170750789196, 13.221257588869648, 12.05466888486401, 10.759810397112709, 12.00083070501091, 10.234621272165121, 40.6369779650536, 10.763368923417474, 9.108405232367588, 9.039374019625349, 10.44896585101568, 9.259366501522964, 8.72950287557833, 13.443021011151187, 14.334299771777692, 8.41821179486059, 8.236573524890423, 12.420821484095605, 19.24739644751978, 8.950303751594802, 7.789403478900013, 7.833648039738275, 8.86159172446742, 15.693086529628383, 49.45836565183906, 22.434362524711684, 520.8673472200798, 88.28714038928707, 156.06965416507722, 884.7513595166446, 60.831493883515726, 136.04378214200688, 76.43033048825711, 194.67851096368426, 53.376840836598234, 22.47628611872884, 61.486957493828704, 137.3122936396982, 405.7736088901512, 151.93189212444182, 69.0230781407207, 45.87063294326094, 47.537548853534574, 41.54938497805784, 30.18616880175437, 49.133386873744456, 126.0039932608333, 163.27332146408094, 378.5472539316608, 675.7623880849205, 219.09639619541508, 232.95659923222635, 95.75049543341598, 80.87201397907101, 637.3516450192342, 332.6801672114817, 245.21424524166616, 501.5890479714184, 330.8443758157375, 346.4060943205971, 176.19771531042392, 276.1709605536478, 192.69068068119918, 361.47830087586925, 195.376755051306, 282.6449685708387, 403.4252854909856, 342.14201147147304, 259.2576823488344, 235.67884797264378, 290.8051607928606, 296.63951701236954, 305.0633513801123, 200.2470944087472, 216.96944975258694, 203.93210942480678, 189.88847546607153, 189.9868896700632, 75.42444019629004, 11.830299740658335, 11.106528952047574, 11.796065278642441, 9.624367125914068, 8.948537627022656, 7.549070125641544, 7.537961663040716, 7.665994983826368, 20.51909200055465, 7.4803977009863605, 6.969695993657776, 7.747216089780027, 6.672426368723376, 7.333068749662361, 5.891234225637979, 5.718439017729828, 9.721883996073496, 5.164397963350807, 5.153219571964332, 5.358733201529888, 11.60340754560219, 4.845105485237838, 4.851986792032155, 4.974428559974491, 4.60611089596465, 4.790606604001549, 5.774244938684357, 4.402102699582231, 4.387929941880029, 13.32118380779706, 8.743946428854283, 144.3158283793842, 24.201158422966333, 16.20246191995006, 70.85706906185699, 17.761908411407, 11.51138362084115, 20.245111018390695, 11.373731556303952, 8.403889029987694, 29.601926681836844, 19.483718543101986, 77.66430477212351, 46.78214073986665, 10.476361378750104, 30.370995609212844, 90.63075477895178, 49.613159698056954, 35.60611907493676, 139.24183340725747, 155.56419883737422, 29.868454355454226, 65.25505361506207, 50.8411563170154, 82.56487635584631, 56.909604621241044, 81.22626025516163, 93.58835583919641, 110.83537153043616, 51.86668631574241, 108.08007051848413, 61.04750301146609, 39.55484517137019, 62.06618156063311, 86.16614910218514, 46.19073178530141, 62.59916776479892, 42.82375661384704, 55.214669143301805, 50.32601531037328, 40.615216991116526, 39.43733338281594, 47.24326529532177, 40.51352010815214, 39.873085574831684], \"Total\": [1275.0, 1335.0, 1298.0, 1809.0, 1678.0, 690.0, 935.0, 631.0, 656.0, 1812.0, 802.0, 589.0, 2161.0, 782.0, 2139.0, 204.0, 565.0, 628.0, 432.0, 1275.0, 407.0, 1826.0, 1223.0, 1984.0, 542.0, 648.0, 1287.0, 235.0, 336.0, 641.0, 65.47237566884698, 407.7352486754322, 36.59510800490687, 432.1386862311168, 120.80969853561672, 33.29848871075648, 37.863014474046786, 22.996055904716894, 47.73968674755713, 18.40748782907005, 16.497599136325498, 18.886141238905864, 39.034449916624176, 166.70929028447554, 98.66038192988485, 631.0868527590944, 17.429074664370496, 25.301381478036472, 13.140162352976002, 11.964399996848591, 11.86737360888327, 130.97508677568715, 39.76427647184932, 13.020932230544961, 29.620046493706514, 589.2181281443887, 14.856526549744716, 22.313734406816113, 12.248652255582167, 11.35260190598043, 107.33360884813499, 312.72275932662484, 41.611916792901475, 162.95715228095284, 63.465329276488575, 1335.3586315144344, 802.4183844350956, 332.52794784493636, 782.3144936971798, 118.9189304468022, 72.65584200600362, 140.711156545289, 59.222250526690225, 103.8347089293244, 82.43949371907044, 607.2159547123763, 648.9378804484912, 618.075797539759, 225.37861977977545, 1812.856961291733, 394.48633466795457, 248.30489405966236, 125.54763156905034, 459.72240893031324, 242.04212430975988, 1520.3150577701745, 292.9481430233561, 2139.1967455719355, 1378.409348758381, 1490.6733914224112, 1984.2152038738905, 1063.859360718137, 1035.2563646097258, 1826.4020017858768, 1469.090690297832, 337.7835429995184, 2261.5768075641554, 1610.8295568339393, 367.97449815413347, 569.3434185792639, 1120.717112929171, 1275.3496889352148, 1724.8229918649165, 1287.8498515624192, 38.3616304512881, 39.10797400085858, 23.408127324284067, 58.56212590134448, 16.771720664762213, 198.9027129530319, 18.944759584780524, 57.00613956648748, 37.593814095798706, 23.783617633158766, 14.444368168255103, 141.78573580015885, 13.116041181555236, 24.74985605477765, 12.744379017287566, 12.547933448207218, 12.283627994537172, 56.0553843573577, 12.071727468585197, 16.50886653588442, 336.43183293756823, 11.59353029618663, 11.001242849643956, 26.042385295056462, 11.765561551690656, 11.953940440307344, 10.852494075161752, 13.691945543471608, 27.518010876851168, 12.640381622594603, 284.4742096412932, 312.60645872798585, 91.84711704153787, 71.10306405516344, 83.64304399328006, 48.57763321147397, 150.64896597429245, 178.3138882233826, 54.29716202285372, 192.8078201572314, 78.3238961691181, 1298.03537472081, 135.33269130525397, 88.69156939164941, 152.87718308139023, 288.25339394823135, 744.7685622385949, 64.43652172470745, 721.752968408841, 229.01581747262344, 230.76639272385228, 130.76596431719406, 362.5948650417937, 692.2829557727598, 561.669186816282, 372.9424612434186, 433.5244606460058, 565.856640540951, 835.3420807425159, 980.582819472105, 504.3752120304619, 949.1915993150702, 2261.5768075641554, 1185.7648165811383, 1809.360568717917, 1678.0344699300533, 1984.2152038738905, 1011.3947680993163, 674.898530602831, 2139.1967455719355, 2161.4290992874385, 1469.090690297832, 842.4161568199129, 1038.6218506017124, 1287.8498515624192, 1826.4020017858768, 876.3603431934907, 1490.6733914224112, 866.7241225910435, 1610.8295568339393, 168.25528747839923, 88.35318369081165, 181.93563877661995, 67.1974879251985, 141.7293942260379, 122.43290252927235, 23.435556753874852, 57.60188276777003, 26.177317275483727, 18.640469448943996, 17.166391359884525, 65.42557983083618, 12.735455566927847, 12.739379218516696, 13.359408506100625, 12.188814669710187, 11.216883573627191, 11.82391461758202, 10.919629185491239, 13.262334341159997, 17.674388912984423, 16.968287886132185, 30.438732720189062, 56.95112890054947, 9.626628455045516, 110.46845185886593, 10.94250361790397, 8.96384885921632, 19.905713649508506, 10.05683577178918, 176.7166554676228, 310.44831200856186, 225.52951967038376, 628.0619941184617, 656.2848929122152, 275.61055333681765, 351.2153827809265, 302.05717660274007, 542.4271635221742, 165.66618424322866, 351.78823869864567, 267.28422520338927, 171.41369317832985, 57.330183742872904, 46.85474443805849, 395.00833785761546, 1223.78066352211, 1809.360568717917, 1275.3496889352148, 935.4992518643575, 784.5453582213418, 993.1194046995215, 917.8092323226092, 544.4327345492873, 446.6062229814628, 844.6354099655799, 2161.4290992874385, 680.2567052243743, 727.3667010820568, 528.6714245991417, 814.0037407955967, 573.4607110272142, 750.5487741138057, 1724.8229918649165, 1678.0344699300533, 2261.5768075641554, 876.3603431934907, 1035.2563646097258, 745.3662907068916, 1469.090690297832, 1610.8295568339393, 1298.03537472081, 841.3673153654381, 835.3420807425159, 38.07068539193852, 21.87710033249771, 18.086405441323162, 15.39361211094925, 25.01936508788211, 13.647806613903507, 15.179976793004297, 39.98539133295494, 13.003550837569739, 14.25089827562964, 12.993617149507092, 11.600037041653593, 12.940120758325603, 11.095313246884679, 44.15471897687369, 11.731020669739603, 9.936405294052232, 9.895099852538069, 11.439918625549613, 10.158427591577317, 9.592835048519392, 14.775390860527294, 15.76050783631237, 9.28642377024457, 9.097622855708014, 13.719640725261652, 21.26722133695564, 9.89422231102509, 8.621914870775692, 8.679884389890708, 9.820455151399672, 17.58171914092265, 57.654979883248465, 25.810472435786608, 690.3127370137055, 108.03058444295873, 197.33761223173346, 1275.18967805041, 74.80962832881802, 179.04605931787168, 98.67335180508503, 287.99823532403474, 68.59882458962346, 26.361511430859935, 82.14041839841815, 203.89539203744096, 717.8460963502597, 232.4806565769438, 95.22082363798488, 60.070621123760766, 62.69814850623125, 53.71654016030693, 37.17430192906281, 66.79786543294948, 212.74624232904014, 296.74942125237396, 874.9380894267314, 1826.4020017858768, 452.13233498721985, 493.85698735230756, 162.31256076285024, 131.36325306285715, 2139.1967455719355, 911.9059992881068, 614.8738821407491, 1724.8229918649165, 1063.859360718137, 1287.8498515624192, 445.64337009297753, 925.7315404758972, 531.8069539180088, 1520.3150577701745, 569.3434185792639, 1120.717112929171, 2161.4290992874385, 1610.8295568339393, 1038.6218506017124, 866.7241225910435, 1378.409348758381, 1678.0344699300533, 1984.2152038738905, 980.582819472105, 2261.5768075641554, 1490.6733914224112, 1185.7648165811383, 1812.856961291733, 77.87507617276526, 12.718942865447683, 12.108217960041902, 12.876053049273445, 10.50636078466104, 9.90174800491053, 8.41013410614473, 8.408277600614486, 8.569871401769793, 23.02849260475257, 8.40660492830671, 7.857780274731426, 8.757545350156704, 7.564300614993998, 8.320765770804083, 6.781979421939287, 6.602445326517125, 11.296903233787273, 6.029005651452541, 6.032712046552463, 6.279747786274874, 13.611872628226353, 5.7147789871985974, 5.724309297980795, 5.877398039087497, 5.4732515147678615, 5.723925380444967, 6.900877910867693, 5.268173188873273, 5.267546607540827, 16.321126889252742, 10.718825241831512, 204.38615296131047, 32.090634086120815, 21.493289476126098, 110.75091251898809, 24.11071730027431, 14.905803399663078, 28.206570490760612, 14.910096104483895, 10.574702304310318, 57.044718836458195, 34.09030726929408, 235.63987468029114, 116.77280093941192, 14.753990307573911, 80.25816040740811, 565.856640540951, 203.89539203744096, 117.31779949679593, 1275.18967805041, 1678.0344699300533, 94.35612465466696, 401.5006355667374, 255.37760368315517, 641.5177819911646, 378.6092625505036, 935.4992518643575, 1287.8498515624192, 1984.2152038738905, 375.72041114129905, 2161.4290992874385, 574.354033104013, 230.0559175186463, 692.2829557727598, 1610.8295568339393, 339.01642746567916, 842.4161568199129, 296.74942125237396, 1185.7648165811383, 949.1915993150702, 384.2895065968195, 331.4793869241618, 1490.6733914224112, 452.13233498721985, 447.5083640697457], \"Category\": [\"Default\", \"Default\", \"Default\", \"Default\", \"Default\", \"Default\", \"Default\", \"Default\", \"Default\", \"Default\", \"Default\", \"Default\", \"Default\", \"Default\", \"Default\", \"Default\", \"Default\", \"Default\", \"Default\", \"Default\", \"Default\", \"Default\", \"Default\", \"Default\", \"Default\", \"Default\", \"Default\", \"Default\", \"Default\", \"Default\", \"Topic1\", \"Topic1\", \"Topic1\", \"Topic1\", \"Topic1\", \"Topic1\", \"Topic1\", \"Topic1\", \"Topic1\", \"Topic1\", \"Topic1\", \"Topic1\", \"Topic1\", \"Topic1\", \"Topic1\", \"Topic1\", \"Topic1\", \"Topic1\", \"Topic1\", \"Topic1\", \"Topic1\", \"Topic1\", \"Topic1\", \"Topic1\", \"Topic1\", \"Topic1\", \"Topic1\", \"Topic1\", \"Topic1\", \"Topic1\", \"Topic1\", \"Topic1\", \"Topic1\", \"Topic1\", \"Topic1\", \"Topic1\", \"Topic1\", \"Topic1\", \"Topic1\", \"Topic1\", \"Topic1\", \"Topic1\", \"Topic1\", \"Topic1\", \"Topic1\", \"Topic1\", \"Topic1\", \"Topic1\", \"Topic1\", \"Topic1\", \"Topic1\", \"Topic1\", \"Topic1\", \"Topic1\", \"Topic1\", \"Topic1\", \"Topic1\", \"Topic1\", \"Topic1\", \"Topic1\", \"Topic1\", \"Topic1\", \"Topic1\", \"Topic1\", \"Topic1\", \"Topic1\", \"Topic1\", \"Topic1\", \"Topic1\", \"Topic1\", \"Topic1\", \"Topic1\", \"Topic1\", \"Topic1\", \"Topic2\", \"Topic2\", \"Topic2\", \"Topic2\", \"Topic2\", \"Topic2\", \"Topic2\", \"Topic2\", \"Topic2\", \"Topic2\", \"Topic2\", \"Topic2\", \"Topic2\", \"Topic2\", \"Topic2\", \"Topic2\", \"Topic2\", \"Topic2\", \"Topic2\", \"Topic2\", \"Topic2\", \"Topic2\", \"Topic2\", \"Topic2\", \"Topic2\", \"Topic2\", \"Topic2\", \"Topic2\", \"Topic2\", \"Topic2\", \"Topic2\", \"Topic2\", \"Topic2\", \"Topic2\", \"Topic2\", \"Topic2\", \"Topic2\", \"Topic2\", \"Topic2\", \"Topic2\", \"Topic2\", \"Topic2\", \"Topic2\", \"Topic2\", \"Topic2\", \"Topic2\", \"Topic2\", \"Topic2\", \"Topic2\", \"Topic2\", \"Topic2\", \"Topic2\", \"Topic2\", \"Topic2\", \"Topic2\", \"Topic2\", \"Topic2\", \"Topic2\", \"Topic2\", \"Topic2\", \"Topic2\", \"Topic2\", \"Topic2\", \"Topic2\", \"Topic2\", \"Topic2\", \"Topic2\", \"Topic2\", \"Topic2\", \"Topic2\", \"Topic2\", \"Topic2\", \"Topic2\", \"Topic2\", \"Topic2\", \"Topic2\", \"Topic2\", \"Topic2\", \"Topic2\", \"Topic2\", \"Topic3\", \"Topic3\", \"Topic3\", \"Topic3\", \"Topic3\", \"Topic3\", \"Topic3\", \"Topic3\", \"Topic3\", \"Topic3\", \"Topic3\", \"Topic3\", \"Topic3\", \"Topic3\", \"Topic3\", \"Topic3\", \"Topic3\", \"Topic3\", \"Topic3\", \"Topic3\", \"Topic3\", \"Topic3\", \"Topic3\", \"Topic3\", \"Topic3\", \"Topic3\", \"Topic3\", \"Topic3\", \"Topic3\", \"Topic3\", \"Topic3\", \"Topic3\", \"Topic3\", \"Topic3\", \"Topic3\", \"Topic3\", \"Topic3\", \"Topic3\", \"Topic3\", \"Topic3\", \"Topic3\", \"Topic3\", \"Topic3\", \"Topic3\", \"Topic3\", \"Topic3\", \"Topic3\", \"Topic3\", \"Topic3\", \"Topic3\", \"Topic3\", \"Topic3\", \"Topic3\", \"Topic3\", \"Topic3\", \"Topic3\", \"Topic3\", \"Topic3\", \"Topic3\", \"Topic3\", \"Topic3\", \"Topic3\", \"Topic3\", \"Topic3\", \"Topic3\", \"Topic3\", \"Topic3\", \"Topic3\", \"Topic3\", \"Topic3\", \"Topic3\", \"Topic3\", \"Topic3\", \"Topic3\", \"Topic4\", \"Topic4\", \"Topic4\", \"Topic4\", \"Topic4\", \"Topic4\", \"Topic4\", \"Topic4\", \"Topic4\", \"Topic4\", \"Topic4\", \"Topic4\", \"Topic4\", \"Topic4\", \"Topic4\", \"Topic4\", \"Topic4\", \"Topic4\", \"Topic4\", \"Topic4\", \"Topic4\", \"Topic4\", \"Topic4\", \"Topic4\", \"Topic4\", \"Topic4\", \"Topic4\", \"Topic4\", \"Topic4\", \"Topic4\", \"Topic4\", \"Topic4\", \"Topic4\", \"Topic4\", \"Topic4\", \"Topic4\", \"Topic4\", \"Topic4\", \"Topic4\", \"Topic4\", \"Topic4\", \"Topic4\", \"Topic4\", \"Topic4\", \"Topic4\", \"Topic4\", \"Topic4\", \"Topic4\", \"Topic4\", \"Topic4\", \"Topic4\", \"Topic4\", \"Topic4\", \"Topic4\", \"Topic4\", \"Topic4\", \"Topic4\", \"Topic4\", \"Topic4\", \"Topic4\", \"Topic4\", \"Topic4\", \"Topic4\", \"Topic4\", \"Topic4\", \"Topic4\", \"Topic4\", \"Topic4\", \"Topic4\", \"Topic4\", \"Topic4\", \"Topic4\", \"Topic4\", \"Topic4\", \"Topic4\", \"Topic4\", \"Topic4\", \"Topic4\", \"Topic4\", \"Topic4\", \"Topic4\", \"Topic4\", \"Topic4\", \"Topic4\", \"Topic4\", \"Topic4\", \"Topic5\", \"Topic5\", \"Topic5\", \"Topic5\", \"Topic5\", \"Topic5\", \"Topic5\", \"Topic5\", \"Topic5\", \"Topic5\", \"Topic5\", \"Topic5\", \"Topic5\", \"Topic5\", \"Topic5\", \"Topic5\", \"Topic5\", \"Topic5\", \"Topic5\", \"Topic5\", \"Topic5\", \"Topic5\", \"Topic5\", \"Topic5\", \"Topic5\", \"Topic5\", \"Topic5\", \"Topic5\", \"Topic5\", \"Topic5\", \"Topic5\", \"Topic5\", \"Topic5\", \"Topic5\", \"Topic5\", \"Topic5\", \"Topic5\", \"Topic5\", \"Topic5\", \"Topic5\", \"Topic5\", \"Topic5\", \"Topic5\", \"Topic5\", \"Topic5\", \"Topic5\", \"Topic5\", \"Topic5\", \"Topic5\", \"Topic5\", \"Topic5\", \"Topic5\", \"Topic5\", \"Topic5\", \"Topic5\", \"Topic5\", \"Topic5\", \"Topic5\", \"Topic5\", \"Topic5\", \"Topic5\", \"Topic5\", \"Topic5\", \"Topic5\", \"Topic5\", \"Topic5\", \"Topic5\", \"Topic5\", \"Topic5\", \"Topic5\", \"Topic5\", \"Topic5\", \"Topic5\", \"Topic5\", \"Topic5\", \"Topic5\"], \"logprob\": [30.0, 29.0, 28.0, 27.0, 26.0, 25.0, 24.0, 23.0, 22.0, 21.0, 20.0, 19.0, 18.0, 17.0, 16.0, 15.0, 14.0, 13.0, 12.0, 11.0, 10.0, 9.0, 8.0, 7.0, 6.0, 5.0, 4.0, 3.0, 2.0, 1.0, -6.9432, -5.1176, -7.5339, -5.0699, -6.361, -7.6502, -7.5231, -8.0221, -7.2935, -8.247, -8.3569, -8.2224, -7.497, -6.0459, -6.5751, -4.7201, -8.3109, -7.9395, -8.5951, -8.6933, -8.7015, -6.3022, -7.4956, -8.6134, -7.7924, -4.8027, -8.486, -8.0801, -8.6822, -8.761, -6.5214, -5.463, -7.4622, -6.1205, -7.0457, -4.0619, -4.578, -5.435, -4.6079, -6.4461, -6.9257, -6.3035, -7.1299, -6.6, -6.8201, -4.9445, -4.9227, -4.9694, -5.9007, -4.0131, -5.424, -5.8589, -6.4662, -5.3729, -5.9136, -4.4141, -5.7905, -4.2523, -4.6255, -4.6077, -4.4313, -4.8853, -4.9199, -4.6051, -4.7473, -5.715, -4.6068, -4.8087, -5.6659, -5.4586, -5.1635, -5.1612, -5.082, -5.2052, -7.4431, -7.4301, -7.9452, -7.0344, -8.2907, -5.8179, -8.1692, -7.0709, -7.4891, -7.9477, -8.4498, -6.1693, -8.5498, -7.9158, -8.5815, -8.5978, -8.62, -7.1019, -8.6376, -8.3266, -5.3167, -8.6862, -8.7398, -7.8782, -8.6731, -8.6581, -8.7552, -8.5235, -7.8267, -8.605, -5.5216, -5.4378, -6.6463, -6.8983, -6.746, -7.2814, -6.1747, -6.0128, -7.1914, -5.9913, -6.8527, -4.252, -6.3717, -6.7695, -6.2718, -5.6966, -4.9103, -7.0779, -4.9608, -5.9754, -5.9819, -6.4726, -5.6103, -5.1635, -5.3425, -5.6853, -5.5954, -5.3937, -5.1163, -5.0134, -5.4987, -5.0692, -4.4644, -4.9245, -4.6598, -4.7568, -4.6501, -5.1012, -5.4277, -4.8719, -4.8917, -5.0928, -5.3512, -5.3035, -5.2203, -5.0938, -5.4504, -5.3723, -5.4702, -5.4701, -5.9145, -6.5614, -5.8403, -6.8365, -6.0932, -6.2537, -7.9125, -7.0147, -7.8044, -8.1567, -8.2427, -6.9117, -8.5523, -8.5525, -8.5086, -8.6029, -8.69, -8.6389, -8.7209, -8.527, -8.2428, -8.2837, -7.6994, -7.0736, -8.8543, -6.4171, -8.7299, -8.9349, -8.1385, -8.829, -5.9806, -5.4315, -5.757, -4.7544, -4.7149, -5.5669, -5.3651, -5.515, -4.9586, -6.0988, -5.3836, -5.6683, -6.0946, -7.1263, -7.3193, -5.3395, -4.3139, -4.077, -4.392, -4.666, -4.8449, -4.6415, -4.7219, -5.1651, -5.3523, -4.8486, -4.1357, -5.0278, -4.9783, -5.2378, -4.9287, -5.293, -5.1415, -4.7013, -4.7233, -4.5933, -5.147, -5.1762, -5.2812, -5.1178, -5.1063, -5.1512, -5.2551, -5.3086, -7.2057, -7.7687, -7.971, -8.1443, -7.6612, -8.2682, -8.1631, -7.199, -8.3228, -8.2326, -8.325, -8.4386, -8.3295, -8.4887, -7.1098, -8.4383, -8.6052, -8.6128, -8.4679, -8.5888, -8.6477, -8.216, -8.1518, -8.684, -8.7059, -8.2951, -7.8571, -8.6227, -8.7617, -8.756, -8.6327, -8.0612, -6.9133, -7.7038, -4.5589, -6.3338, -5.7641, -4.0291, -6.7063, -5.9015, -6.4781, -5.5431, -6.8371, -7.702, -6.6956, -5.8922, -4.8086, -5.791, -6.58, -6.9886, -6.9529, -7.0876, -7.4071, -6.9199, -5.9781, -5.719, -4.8781, -4.2986, -5.4249, -5.3636, -6.2527, -6.4216, -4.3571, -5.0073, -5.3123, -4.5967, -5.0128, -4.9668, -5.6428, -5.1934, -5.5533, -4.9242, -5.5395, -5.1702, -4.8144, -4.9792, -5.2566, -5.352, -5.1418, -5.1219, -5.0939, -5.5149, -5.4347, -5.4966, -5.568, -5.5675, -5.1872, -7.0397, -7.1028, -7.0426, -7.246, -7.3188, -7.4889, -7.4904, -7.4735, -6.489, -7.498, -7.5688, -7.463, -7.6124, -7.5179, -7.7369, -7.7666, -7.236, -7.8685, -7.8707, -7.8316, -7.059, -7.9324, -7.9309, -7.906, -7.983, -7.9437, -7.7569, -8.0283, -8.0315, -6.921, -7.342, -4.5383, -6.3239, -6.7252, -5.2497, -6.6333, -7.067, -6.5024, -7.079, -7.3816, -6.1225, -6.5408, -5.1579, -5.6648, -7.1612, -6.0968, -5.0035, -5.6061, -5.9378, -4.5741, -4.4633, -6.1135, -5.332, -5.5816, -5.0968, -5.4689, -5.1131, -4.9714, -4.8023, -5.5617, -4.8275, -5.3987, -5.8326, -5.3821, -5.0541, -5.6776, -5.3736, -5.7532, -5.4991, -5.5918, -5.8062, -5.8356, -5.655, -5.8087, -5.8246], \"loglift\": [30.0, 29.0, 28.0, 27.0, 26.0, 25.0, 24.0, 23.0, 22.0, 21.0, 20.0, 19.0, 18.0, 17.0, 16.0, 15.0, 14.0, 13.0, 12.0, 11.0, 10.0, 9.0, 8.0, 7.0, 6.0, 5.0, 4.0, 3.0, 2.0, 1.0, 1.3232, 1.3199, 1.3143, 1.3095, 1.2929, 1.2924, 1.291, 1.2907, 1.2888, 1.2883, 1.288, 1.2873, 1.2867, 1.2859, 1.2813, 1.2805, 1.2791, 1.2777, 1.2773, 1.2729, 1.2728, 1.2709, 1.2695, 1.2681, 1.2672, 1.2666, 1.2637, 1.2628, 1.2604, 1.2577, 1.2508, 1.2397, 1.2575, 1.2341, 1.2519, 1.1892, 1.1825, 1.2064, 1.1779, 1.2235, 1.2367, 1.1979, 1.2369, 1.2053, 1.2159, 1.0947, 1.05, 1.0521, 1.1296, 0.9323, 1.0465, 1.0746, 1.1492, 0.9445, 1.0454, 0.7073, 0.9776, 0.5276, 0.5939, 0.5334, 0.4238, 0.5932, 0.5858, 0.3328, 0.4084, 0.9107, 0.1175, 0.2549, 0.8741, 0.645, 0.2629, 0.1359, -0.0868, 0.0821, 1.3579, 1.3516, 1.3498, 1.3436, 1.3377, 1.3373, 1.3373, 1.334, 1.3321, 1.3314, 1.328, 1.3245, 1.3245, 1.3234, 1.3215, 1.3208, 1.3198, 1.3198, 1.3197, 1.3176, 1.313, 1.3114, 1.3103, 1.3102, 1.3098, 1.309, 1.3085, 1.3078, 1.3066, 1.3062, 1.2759, 1.2654, 1.2817, 1.2857, 1.2755, 1.2835, 1.2585, 1.2517, 1.2622, 1.1951, 1.2345, 1.0275, 1.1686, 1.1934, 1.1467, 1.0876, 0.9248, 1.2045, 0.9056, 1.0389, 1.0248, 1.1021, 0.9445, 0.7446, 0.7747, 0.8414, 0.7808, 0.716, 0.604, 0.5466, 0.7261, 0.5233, 0.2598, 0.4454, 0.2876, 0.266, 0.2051, 0.4278, 0.5058, -0.0919, -0.1222, 0.0629, 0.3607, 0.199, 0.067, -0.1558, 0.222, -0.2311, 0.2131, -0.4065, 1.4082, 1.4053, 1.4041, 1.404, 1.4009, 1.3868, 1.3814, 1.3798, 1.3788, 1.3661, 1.3624, 1.3555, 1.3514, 1.3509, 1.3473, 1.3447, 1.3406, 1.3391, 1.3366, 1.3361, 1.3332, 1.3331, 1.333, 1.3323, 1.3293, 1.3262, 1.3256, 1.32, 1.3186, 1.3108, 1.2929, 1.2786, 1.2726, 1.251, 1.2466, 1.2622, 1.2216, 1.2225, 1.1934, 1.2393, 1.2014, 1.1915, 1.2095, 1.273, 1.2818, 1.1297, 1.0245, 0.8704, 0.9051, 0.9411, 0.9381, 0.9058, 0.9042, 0.9832, 0.9941, 0.8606, 0.6338, 0.8978, 0.8804, 0.9399, 0.8174, 0.8034, 0.6858, 0.294, 0.2994, 0.131, 0.5254, 0.3295, 0.5531, 0.0379, -0.0427, 0.1283, 0.458, 0.4116, 1.6029, 1.5939, 1.5819, 1.5698, 1.5672, 1.5663, 1.5651, 1.5606, 1.5601, 1.5587, 1.5587, 1.5585, 1.5583, 1.5529, 1.5506, 1.5476, 1.5466, 1.5432, 1.5431, 1.541, 1.5393, 1.5392, 1.5388, 1.5355, 1.5342, 1.5342, 1.5339, 1.5334, 1.5321, 1.5311, 1.5309, 1.52, 1.4803, 1.4935, 1.352, 1.4318, 1.399, 1.2681, 1.4268, 1.359, 1.3782, 1.2421, 1.3828, 1.4742, 1.3441, 1.2383, 1.0632, 1.2083, 1.3119, 1.364, 1.3568, 1.3768, 1.4254, 1.3265, 1.1099, 1.0362, 0.7958, 0.6394, 0.9092, 0.8823, 1.1059, 1.1486, 0.4228, 0.6253, 0.7144, 0.3986, 0.4656, 0.3205, 0.7057, 0.4241, 0.6185, 0.1972, 0.5641, 0.2561, -0.0449, 0.0844, 0.2458, 0.3314, 0.0776, -0.0992, -0.2388, 0.0451, -0.7104, -0.3555, -0.198, -0.622, 2.9058, 2.8653, 2.8514, 2.8502, 2.8501, 2.8365, 2.8297, 2.8285, 2.8263, 2.8224, 2.821, 2.8178, 2.8152, 2.8123, 2.8114, 2.797, 2.794, 2.7876, 2.783, 2.7802, 2.7792, 2.7781, 2.7727, 2.7724, 2.771, 2.7653, 2.7598, 2.7595, 2.7582, 2.7551, 2.7347, 2.7341, 2.5898, 2.6556, 2.6552, 2.4911, 2.6322, 2.6793, 2.6061, 2.667, 2.708, 2.2818, 2.3783, 1.8278, 2.023, 2.5954, 1.966, 1.1062, 1.5244, 1.7454, 0.7231, 0.5594, 1.7875, 1.1209, 1.3237, 0.8875, 1.0427, 0.4939, 0.3159, 0.0528, 0.9576, -0.0579, 0.6962, 1.1771, 0.526, 0.0095, 0.9445, 0.3382, 1.002, -0.1292, 0.0007, 0.6905, 0.8089, -0.5139, 0.5254, 0.5198]}, \"token.table\": {\"Topic\": [1, 2, 3, 4, 5, 2, 3, 5, 1, 2, 3, 4, 5, 1, 2, 3, 4, 5, 5, 4, 3, 4, 5, 5, 5, 1, 2, 3, 4, 5, 1, 2, 3, 4, 5, 3, 5, 4, 2, 2, 3, 4, 5, 4, 5, 1, 2, 3, 4, 5, 1, 1, 2, 3, 4, 5, 1, 2, 4, 1, 5, 1, 2, 3, 4, 1, 2, 3, 4, 2, 5, 1, 2, 3, 4, 5, 1, 2, 3, 4, 5, 1, 2, 3, 4, 5, 1, 4, 5, 1, 2, 3, 4, 5, 1, 2, 3, 4, 5, 2, 3, 4, 1, 2, 3, 4, 5, 5, 4, 2, 3, 1, 2, 3, 4, 4, 3, 1, 2, 1, 2, 3, 4, 5, 3, 1, 2, 3, 4, 5, 1, 2, 3, 4, 5, 1, 2, 3, 4, 5, 1, 4, 5, 5, 4, 1, 2, 3, 4, 1, 2, 3, 4, 5, 1, 2, 3, 4, 5, 1, 2, 3, 4, 5, 1, 1, 2, 3, 4, 1, 2, 3, 4, 5, 1, 2, 1, 2, 3, 4, 5, 4, 1, 2, 1, 2, 3, 4, 5, 1, 2, 4, 5, 3, 4, 5, 1, 2, 3, 4, 5, 1, 2, 3, 4, 5, 1, 2, 3, 4, 1, 2, 3, 4, 5, 1, 2, 3, 4, 5, 2, 3, 4, 5, 4, 1, 2, 3, 4, 5, 1, 2, 3, 4, 5, 1, 4, 1, 2, 1, 2, 3, 4, 1, 2, 3, 4, 1, 2, 3, 4, 5, 1, 2, 3, 4, 5, 3, 1, 4, 5, 1, 2, 3, 4, 5, 1, 2, 3, 4, 5, 2, 3, 1, 2, 5, 1, 2, 3, 4, 5, 2, 3, 5, 3, 4, 1, 2, 3, 4, 5, 1, 2, 3, 5, 1, 2, 3, 1, 2, 5, 5, 1, 2, 3, 4, 5, 1, 2, 3, 4, 5, 1, 2, 3, 4, 5, 1, 2, 3, 4, 5, 1, 2, 3, 4, 5, 5, 1, 2, 3, 4, 5, 1, 2, 3, 4, 5, 1, 2, 3, 4, 5, 4, 4, 5, 3, 1, 2, 3, 4, 5, 4, 2, 2, 4, 2, 3, 4, 5, 1, 2, 3, 1, 2, 3, 4, 1, 2, 3, 4, 5, 3, 5, 1, 2, 3, 4, 5, 5, 5, 3, 4, 3, 3, 4, 4, 2, 3, 4, 5, 1, 2, 3, 4, 5, 4, 1, 2, 3, 4, 5, 1, 2, 3, 4, 5, 1, 2, 3, 4, 5, 1, 1, 2, 4, 1, 2, 3, 4, 5, 1, 2, 3, 4, 5, 1, 2, 3, 4, 5, 1, 2, 3, 4, 5, 1, 2, 3, 4, 5, 2, 4, 1, 2, 3, 4, 5, 2, 3, 5, 1, 2, 3, 4, 1, 2, 3, 4, 5, 1, 2, 3, 4, 5, 1, 2, 3, 4, 5, 2, 1, 2, 3, 4, 5, 1, 2, 2, 3, 4, 5, 1, 2, 3, 4, 2, 3, 2, 3, 4, 5, 1, 2, 3, 4, 5, 1, 2, 3, 4, 1, 2, 3, 4, 5, 1, 2, 3, 4, 5, 1, 2, 4, 5, 2, 1, 2, 3, 4, 5, 1, 2, 3, 4, 5, 5, 1, 3, 4, 5, 2, 4, 1, 3, 4, 1, 1, 2, 3, 4, 5, 1, 2, 4, 5, 1, 2, 3, 4, 5, 2, 4, 1, 2, 3, 4, 5, 1, 3, 4, 1, 2, 3, 4, 5, 1, 2, 3, 4, 2, 3, 4, 1, 2, 3, 4, 5, 2, 3, 4, 5, 1, 2, 3, 4, 5, 1, 2, 3, 4, 5, 5, 3, 1, 2, 3, 4, 5, 1, 2, 3, 4, 5, 1, 2, 3, 4, 5, 1, 2, 3, 4, 5, 1, 4, 1, 2, 3, 4, 1, 2, 3, 4, 5, 1, 2, 3, 4, 1, 2, 3, 4, 5, 4, 1, 2, 3, 4, 5, 2, 1, 2, 3, 4, 5, 1, 2, 3, 4, 5, 1, 2, 3, 4, 5, 1, 2, 3, 4, 5, 4, 2, 4, 1, 2, 3, 4, 5, 1, 2, 3, 4, 5, 1, 3, 1, 2, 3, 4, 5, 4, 1, 2, 1, 2, 3, 4, 5, 1, 2, 3, 4, 5, 3, 1, 2, 3, 4, 5, 1, 2, 1, 2, 3, 4, 5, 1, 2, 2, 5, 1, 2, 3, 4, 5, 1, 2, 3, 4, 5, 1, 2, 3, 4, 5, 1, 2, 3, 4, 5, 1, 2, 3, 4, 5, 4, 1, 4, 5, 1, 2, 3, 4, 5, 4, 1, 2, 3, 4, 5, 1, 2, 3, 4, 5, 2, 2, 2, 3, 5, 1, 2, 3, 4, 5, 1, 2, 3, 4, 1, 2, 3, 4, 5, 3, 1, 4, 2, 1, 1, 2, 3, 4, 5, 2, 1, 2, 3, 4, 5, 1, 2, 5, 1, 2, 3, 4, 5, 1, 2, 3, 4, 5, 1, 2, 3, 4, 5, 1, 2, 3, 4, 5, 1, 2, 3, 4, 5, 2, 3, 4, 5, 1, 2, 3, 4, 5, 1, 2, 3, 4, 5, 1, 2, 3, 4, 5, 1, 2, 3, 4, 5, 1, 2, 3, 4, 5, 2, 4, 1, 2, 3, 4, 5, 1, 2, 3, 4, 5, 1, 2, 3, 4, 5, 1, 3, 4, 2, 3, 5, 1, 2, 3, 4, 5, 2, 1, 2, 3, 4, 5, 3, 3, 5, 1, 2, 5, 4, 5, 1, 2, 3, 4, 5, 1, 2, 3, 4, 5, 2, 3, 4, 2, 1, 3, 4, 1, 3, 5, 1, 2, 3, 4, 5, 1, 2, 3, 4, 5, 2, 3, 1, 2, 3, 4, 1, 2, 3, 4, 5, 1, 5, 5, 4, 1, 2, 4, 5, 2, 4, 5, 1, 2, 3, 4, 5, 1, 2, 3, 4, 3, 1, 2, 3, 4, 5, 3, 1, 2, 3, 1, 2, 3, 4, 1, 2, 3, 4, 5, 1, 4, 1, 2, 3, 4, 3, 3, 1, 2, 3, 4, 5, 1, 2, 3, 4, 5, 4, 1, 5, 1, 2, 3, 4, 5, 1, 2, 3, 4, 5, 1, 2, 3, 4, 5, 3, 1, 2, 3, 4, 5, 1, 2, 3, 4, 5, 1, 2, 2, 1, 2, 3, 4, 5, 1, 2, 3, 4, 5, 1, 2, 3, 4, 5, 1, 2, 3, 4, 5, 1, 2, 3, 4, 5, 1, 2, 3, 4, 5, 2, 1, 2, 3, 4, 5, 1, 2, 3, 2, 3, 4, 5, 1, 2, 3, 4, 5, 4, 1, 2, 3, 4, 5, 1, 2, 3, 4, 5, 1, 2, 3, 4, 5, 1, 2, 3, 4, 5, 1, 2, 3, 4, 5, 5, 5], \"Freq\": [0.025462583563756403, 0.12306915389148929, 0.46681403200220073, 0.05516893105480554, 0.33101358632883326, 0.13417592774940307, 0.06708796387470153, 0.8050555664964185, 0.11449277116421923, 0.021173320694752872, 0.06116737089595274, 0.694014400550233, 0.10900339172483886, 0.06080669086677155, 0.030403345433385773, 0.010134448477795257, 0.7702180843124397, 0.1216133817335431, 0.8293241521170862, 0.9228248614470527, 0.029333851176540228, 0.38134006529502296, 0.5573431723542643, 0.9335029226165392, 0.7962103208871042, 0.6250433145605104, 0.1684899369684854, 0.04348127405638333, 0.12772624254062603, 0.035328535170811456, 0.06742465108209163, 0.8246553478501977, 0.01555953486509807, 0.07261116270379099, 0.025932558108496782, 0.07346527750534068, 0.8815833300640882, 0.9057601550721015, 0.9214471743308419, 0.8927879572193376, 0.0762136061040898, 0.01088765801486997, 0.02177531602973994, 0.9012814489764659, 0.8735264119762703, 0.0442481792193556, 0.4203577025838782, 0.3171119510720485, 0.16540390803425783, 0.05267640383256619, 0.9269110725363866, 0.1609946699980143, 0.21063469324740203, 0.42126938649480405, 0.19319360399761715, 0.013416222499834525, 0.9180062802019036, 0.07748792684735867, 0.8523671953209454, 0.9530798151037654, 0.9134979814699847, 0.9417591529067909, 0.047987727536651766, 0.005998465942081471, 0.005998465942081471, 0.8667621927968125, 0.038522764124302784, 0.019261382062151392, 0.06741483721752987, 0.9349320006251084, 0.8694545936758329, 0.08304029707194718, 0.5443752808049871, 0.23528084170385036, 0.10380037133993399, 0.032293448861312794, 0.15433077237662993, 0.3887786123804721, 0.24962791597531397, 0.1602341352544245, 0.04638356546838605, 0.2826416445662476, 0.26633539584127175, 0.10870832483317215, 0.26866485994483974, 0.07298987524512987, 0.17544377724179153, 0.7655728461459994, 0.04784830288412496, 0.20106558132109986, 0.022340620146788875, 0.011170310073394437, 0.7595810849908218, 0.005585155036697219, 0.002972370335079351, 0.9273795445447576, 0.06836451770682508, 0.002972370335079351, 0.841268723674642, 0.045853624954593816, 0.9323570407434076, 0.015284541651531272, 0.03652282345883173, 0.13391701934904968, 0.03652282345883173, 0.7426307436629119, 0.03652282345883173, 0.7593667978701406, 0.8859638875077668, 0.9250064619828031, 0.0420457482719456, 0.0031989102338737946, 0.8828992245491674, 0.11196185818558281, 0.0031989102338737946, 0.9122231980443793, 0.9422513342327761, 0.9485648054764847, 0.0395235335615202, 0.20421723058874175, 0.3080565003796274, 0.18229560696622144, 0.272289640784989, 0.03345932026595204, 0.9138676439309685, 0.08651683280365226, 0.22068732217830014, 0.45617966387380277, 0.1864507145447693, 0.04996694087055852, 0.2071524865941462, 0.020280663023203124, 0.011588950298973215, 0.7547303882206305, 0.007243093936858259, 0.1295929303001424, 0.018513275757163203, 0.027769913635744804, 0.8145841333151809, 0.009256637878581601, 0.9478806561647553, 0.025618396112560952, 0.025618396112560952, 0.8288146295425072, 0.9216712620409373, 0.0379340920046548, 0.0758681840093096, 0.0379340920046548, 0.8345500241024056, 0.04948249785180994, 0.510730067113324, 0.22797293653155293, 0.05301696198408208, 0.1608181180183823, 0.09997569394465075, 0.3260076976456003, 0.08693538603882674, 0.32166092834365895, 0.17387077207765347, 0.3666339726901625, 0.018801742189239103, 0.02350217773654888, 0.5922548789610318, 0.004700435547309776, 0.9423467829524773, 0.021342555849856146, 0.021342555849856146, 0.8750447898441021, 0.06402766754956844, 0.017083534190592525, 0.1167374836357156, 0.8200096411484413, 0.03986157977804923, 0.005694511396864175, 0.060573510472469734, 0.908602657087046, 0.6929554080969724, 0.13654293755605368, 0.08533933597253356, 0.06144432190022416, 0.023895014072309394, 0.9376848195634601, 0.9566857939098772, 0.04348571790499442, 0.012459792187159282, 0.49839168748637125, 0.04983916874863713, 0.04983916874863713, 0.37379376561477845, 0.03633983591601909, 0.9084958979004772, 0.03633983591601909, 0.03633983591601909, 0.9429354397668167, 0.058933464985426044, 0.9084739006434216, 0.019898334366989595, 0.11654738700665333, 0.8044612322654364, 0.0511671455151161, 0.005685238390568456, 0.05153837009607814, 0.0386537775720586, 0.8697099953713185, 0.0386537775720586, 0.8507165869569524, 0.12668644217019567, 0.025337288434039134, 0.0557420345548861, 0.7905233991420211, 0.36355632514130687, 0.212987063975856, 0.03449404892153966, 0.3701266201739811, 0.018615835925910294, 0.9130411345681948, 0.046583731355520144, 0.009316746271104029, 0.027950238813312087, 0.009316746271104029, 0.005496449220857696, 0.9838644105335276, 0.005496449220857696, 0.9512333452750686, 0.9273483782814983, 0.8499306761025043, 0.07851265776313456, 0.013708559291975874, 0.052341771842089706, 0.004984930651627591, 0.8462069990182856, 0.02939994105350539, 0.07925201501379714, 0.04090426581357271, 0.005113033226696589, 0.12141188868984126, 0.8498832208288889, 0.9138848038953882, 0.07878317274960243, 0.9426276097947044, 0.030407342251442076, 0.020271561500961384, 0.010135780750480692, 0.9017572005543213, 0.08314073480288069, 0.003197720569341565, 0.01279088227736626, 0.9380642258855374, 0.025353087186095604, 0.019014815389571702, 0.012676543593047802, 0.006338271796523901, 0.8559498347673989, 0.060657862306351104, 0.019470424937841093, 0.04043857487090074, 0.02321473742588746, 0.9550252891427365, 0.09456530985202236, 0.09456530985202236, 0.7565224788161788, 0.4588131053991795, 0.0827367894982127, 0.0770956447596982, 0.362913644844433, 0.01880381579504834, 0.01654739374014142, 0.6398325579521349, 0.14616864470458255, 0.11031595826760947, 0.08825276661408757, 0.05657904241686986, 0.9052646786699178, 0.06706864885326067, 0.13413729770652133, 0.7377551373858673, 0.07814022384248559, 0.20718998746113604, 0.5718443653927354, 0.13733736311709588, 0.004735771141968824, 0.00816773905822343, 0.9719609479285882, 0.01633547811644686, 0.9548299006430071, 0.017360543648054675, 0.39814229749759017, 0.3059143982038446, 0.08618016819251635, 0.15371316548957595, 0.055941512686370265, 0.9519103299980182, 0.0331099245216702, 0.00827748113041755, 0.00827748113041755, 0.8733678089454896, 0.09704086766060996, 0.012130108457576245, 0.93147485528253, 0.0610803183791823, 0.007635039797397787, 0.9518043597550628, 0.03382508642678793, 0.8230771030518396, 0.09020023047143447, 0.022550057617858617, 0.03382508642678793, 0.1583827857242165, 0.033698465047705635, 0.11457478116219916, 0.5492849802776019, 0.14490339970513424, 0.13164279083836428, 0.027847513446577057, 0.7493512709260736, 0.06328980328767513, 0.02531592131507005, 0.01712727607722374, 0.025690914115835614, 0.00856363803861187, 0.5480728344711597, 0.40249098781475795, 0.026604056128745935, 0.004434009354790989, 0.8646318241842429, 0.09754820580540176, 0.004434009354790989, 0.8846974646650163, 0.23886509047200058, 0.1316077076144275, 0.32467099675805905, 0.2910443578081172, 0.013914471289631102, 0.17114998095386588, 0.24127393148357482, 0.38271037407739456, 0.18897810396989356, 0.015451039947224002, 0.1671667514946661, 0.1393056262455551, 0.09472782584697746, 0.5655808425569536, 0.03343335029893322, 0.9525340128102663, 0.919287916348438, 0.03996903984123643, 0.9419611265326016, 0.007389197616298179, 0.7980333425602034, 0.16256234755855994, 0.007389197616298179, 0.022167592848894538, 0.9382002249052648, 0.953986792399684, 0.05687725938429034, 0.9100361501486455, 0.8928753166070149, 0.07733565734391468, 0.02460680006397285, 0.0035152571519961213, 0.018417168830649, 0.8840241038711519, 0.09208584415324499, 0.02655179193651141, 0.8762091339048765, 0.013275895968255704, 0.07965537580953423, 0.1025592200529426, 0.5243520687213826, 0.15311658205087206, 0.13000464513753288, 0.08955875553918931, 0.043424466254192516, 0.9119137913380428, 0.0675521642369, 0.24188033000954515, 0.5981635188073886, 0.07517902148945323, 0.017432816577264514, 0.890836820992587, 0.931962609510771, 0.9320537825666599, 0.9095410995465116, 0.9349067580647005, 0.9157820133019592, 0.92353036586546, 0.9718763825521975, 0.9057666479643817, 0.020585605635554127, 0.020585605635554127, 0.04117121127110825, 0.04917988525616675, 0.2591401646190325, 0.6204231678470267, 0.03972221501459622, 0.030264544773025693, 0.9164544678682499, 0.29514069731838516, 0.01388897399145342, 0.01388897399145342, 0.6770874820833542, 0.003472243497863355, 0.1460586401406105, 0.3115156934248959, 0.4096488422693686, 0.10726181385326085, 0.027385995026364473, 0.49706379447785043, 0.049179456697455166, 0.06323073003958521, 0.3424997877144199, 0.04742304752968891, 0.9564119880533488, 0.025009133752701966, 0.05001826750540393, 0.9253379488499727, 0.1793272379217247, 0.3462011954322185, 0.18430855008621705, 0.12951411627680118, 0.16189264534600145, 0.09421506107541358, 0.6165544438023389, 0.16903290369412435, 0.11499779513616658, 0.005542062416200799, 0.21261215835566408, 0.1376916835065253, 0.1295921727120238, 0.47179650377971166, 0.04859706476700893, 0.14991084595907686, 0.4303563060866016, 0.1856039045207618, 0.2039603346381998, 0.02957424852253897, 0.8829544598618068, 0.04204545046960985, 0.01681818018784394, 0.00840909009392197, 0.05045454056353182, 0.9716688468486182, 0.025570232811805742, 0.3364725943229479, 0.1657531045834448, 0.2321785060457242, 0.2123129654214911, 0.05338864042762642, 0.9398445119177369, 0.8982433611877467, 0.9253994990792092, 0.017541970173820993, 0.9472663893863336, 0.017541970173820993, 0.017541970173820993, 0.4684829927926469, 0.12267492800962095, 0.3361486216326621, 0.06085449184729228, 0.01255727609547301, 0.3920792663135223, 0.2654703365664474, 0.2511757799821002, 0.08032179414061742, 0.010891090730931176, 0.2807306895665236, 0.14475176180773872, 0.2006785788698196, 0.3651692172877045, 0.008772834048953862, 0.92019866210051, 0.05735806034468216, 0.08539977873541565, 0.6181924281593522, 0.21286213505693155, 0.02549247126430318, 0.9193942030438123, 0.9493384265036805, 0.009029270976241857, 0.018058541952483714, 0.3340830261209487, 0.6410782393131718, 0.9649679912642204, 0.020826647293472382, 0.004628143842993863, 0.009256287685987725, 0.06570575780487281, 0.9198806092682195, 0.9502132836399758, 0.03016550106793574, 0.020110334045290494, 0.0050275835113226235, 0.13972833995986012, 0.7030082104230462, 0.03493208498996503, 0.048031616861201915, 0.06986416997993006, 0.8949339062370487, 0.0506566362020971, 0.01688554540069903, 0.01688554540069903, 0.0018435654909069105, 0.18435654909069105, 0.7982638575626922, 0.009217827454534552, 0.005530696472720731, 0.016976328530332818, 0.062246537944553676, 0.8827690835773067, 0.005658776176777606, 0.033952657060665636, 0.022647635930459806, 0.022647635930459806, 0.928553073148852, 0.022647635930459806, 0.9112200410940189, 0.1534294035279071, 0.05114313450930237, 0.008523855751550395, 0.48585977783837253, 0.3068588070558142, 0.0210038090786076, 0.0105019045393038, 0.1365247590109494, 0.7246314132119622, 0.105019045393038, 0.8734678263740415, 0.06777827415859514, 0.13555654831719027, 0.06777827415859514, 0.6777827415859514, 0.9215745688454982, 0.03839894036856242, 0.9426119663908913, 0.02094693258646425, 0.02094693258646425, 0.9132307255916228, 0.059850710480446816, 0.4189549733631277, 0.28103811877775026, 0.13271244497838208, 0.1066903969434052, 0.01707588282714719, 0.9562494383202428, 0.01707588282714719, 0.9087542120042178, 0.005608088130226013, 0.869253660185032, 0.0841213219533902, 0.028040440651130063, 0.011216176260452026, 0.9310042314624156, 0.02660012089892616, 0.13468808334126672, 0.026189349538579643, 0.7969044931024948, 0.04115469213205372, 0.0037413356483685205, 0.8980579879706267, 0.9925393876340416, 0.0059433496265511475, 0.47186688253711934, 0.18235493070159592, 0.03195911156625908, 0.3111313508362281, 0.003759895478383421, 0.025534991207301162, 0.855422205444589, 0.025534991207301162, 0.08937246922555407, 0.9001018570781603, 0.07032045758423128, 0.014064091516846254, 0.1555199689695391, 0.5791778154727663, 0.10189239346280148, 0.14479445386819156, 0.021451030202695048, 0.784943819484908, 0.1177415729227362, 0.013082396991415134, 0.08503558044419836, 0.47228350604731184, 0.11680129719449649, 0.17846657832202567, 0.21111290362483526, 0.021764216868539715, 0.015562486674255182, 0.45610057099163265, 0.36511987966521775, 0.1340768082705062, 0.029927858988952272, 0.8749244741048184, 0.930317949323072, 0.4239258463231253, 0.07418702310654693, 0.13777590005501572, 0.04239258463231253, 0.317944384742344, 0.0244634968052189, 0.24463496805218898, 0.0244634968052189, 0.004892699361043779, 0.7045487079903043, 0.2931582945945082, 0.3232258119888167, 0.27591368903012536, 0.09595075403771987, 0.01193857308303427, 0.1448834959149573, 0.05090501207822824, 0.16446234671427587, 0.44248202806459935, 0.19970427815304928, 0.95079592842974, 0.026410998011937224, 0.11667679302138975, 0.029169198255347438, 0.8109037114986588, 0.03500303790641692, 0.3390686156355818, 0.17667259446275052, 0.20611802687320893, 0.2525168900654464, 0.02587628908797861, 0.00705569938727844, 0.00705569938727844, 0.9807422148317031, 0.00705569938727844, 0.04959290337740649, 0.11939032294560822, 0.6465445181054476, 0.17816709731883074, 0.0055103225974896105, 0.8741320919596633, 0.05551422697257559, 0.5154892504596305, 0.21412630403707728, 0.1506814732112766, 0.06344483082580067, 0.8955009061567126, 0.03466709300939344, 0.6933418601878688, 0.17766885167314136, 0.0433338662617418, 0.052000639514090154, 0.6619386005749467, 0.10039402108720025, 0.1312844891140311, 0.10480694509103324, 0.0016548465014373669, 0.7458632126270002, 0.024268868089815623, 0.055009434336915415, 0.17311792570735146, 0.0016179245393210416, 0.21346879236957694, 0.11579675057783655, 0.5991223182070673, 0.06947805034670193, 0.0020138565317884614, 0.9096217688550761, 0.06768010467130971, 0.8798413607270261, 0.9249545693992073, 0.04412627303555851, 0.005091493042564443, 0.022063136517779254, 0.0033943286950429623, 0.9761236029824301, 0.014715431200740151, 0.004905143733580051, 0.0024525718667900254, 0.0024525718667900254, 0.9411244042406989, 0.04481544782098566, 0.0030474570138665684, 0.14780166517252857, 0.8426218643341061, 0.0030474570138665684, 0.004571185520799852, 0.9278681267332277, 0.8946286796129758, 0.08258110888735161, 0.004904475721630687, 0.004904475721630687, 0.0735671358244603, 0.6719131738634041, 0.24522378608153433, 0.6699695164233076, 0.10441083372830767, 0.04350451405346153, 0.1566162505924615, 0.02392748272940384, 0.8949136889802107, 0.07248123938881923, 0.2899249575552769, 0.5479090299561589, 0.058967787977344456, 0.029483893988672228, 0.9775114977300638, 0.015273617152032248, 0.38326371346869736, 0.1676778746425551, 0.11178524976170338, 0.1996165174316132, 0.13840078541925183, 0.9610045752515781, 0.030031392976611816, 0.9488050420343616, 0.9135337534752532, 0.5288377536556245, 0.14668012321542817, 0.0769577328080946, 0.23745078242497566, 0.00986637600103777, 0.20644310265584212, 0.18849152851185585, 0.20419915588784382, 0.39493463116769795, 0.004487893535996568, 0.18393878285610044, 0.27434937103960744, 0.2868197969959532, 0.12626306280800115, 0.12938066929708758, 0.13498703134214554, 0.2748531120099108, 0.16588767707107044, 0.39845569492561034, 0.026021596403305165, 0.24804005670539886, 0.07374163847998344, 0.28379357839266356, 0.3039049343417499, 0.08938380421816175, 0.8614726398372524, 0.8808553389626131, 0.939932484381834, 0.8326785973288229, 0.20299347796420483, 0.4133954770219938, 0.18965813999575343, 0.16446916827756744, 0.029634084374336473, 0.948272834000532, 0.7395406915654068, 0.03305209794705729, 0.02478907346029297, 0.1693920019786686, 0.03305209794705729, 0.22076188982716144, 0.10657470543380208, 0.007612478959557291, 0.6166107957241406, 0.05328735271690104, 0.9501308221646947, 0.9089882058483637, 0.05023683237926469, 0.9042629828267644, 0.05023683237926469, 0.7442931204234696, 0.015409795453902062, 0.012327836363121649, 0.21881909544540928, 0.009245877272341238, 0.174930111000986, 0.029155018500164335, 0.029155018500164335, 0.7726079902543548, 0.009052358235974884, 0.018104716471949767, 0.9142881818334633, 0.054314149415849305, 0.009052358235974884, 0.9048180879257198, 0.07288820604162932, 0.8746584724995519, 0.9692358874352354, 0.969838087820315, 0.020815019444584807, 0.7389331902827606, 0.22549604398300208, 0.006938339814861603, 0.006938339814861603, 0.9645054072188848, 0.7427380222096229, 0.06083860932775069, 0.0557687252171048, 0.1343519289321161, 0.007604826165968836, 0.9235372125658955, 0.09329380575190079, 0.839644251767107, 0.0022391089701441686, 0.3022797109694627, 0.6538198192820972, 0.013434653820865011, 0.02910841661187419, 0.01986378892725693, 0.12580399653929392, 0.8210366089932866, 0.026485051903009243, 0.0033106314878761554, 0.005392765202185346, 0.6964371061107932, 0.2750310253114526, 0.021571060808741382, 0.0015407900577672415, 0.06658829100100334, 0.11652950925175584, 0.016647072750250836, 0.7657653465115384, 0.03329414550050167, 0.12235918948117973, 0.1883506624597935, 0.5842995003314762, 0.1003620318216418, 0.004124467061163361, 0.1675461593978538, 0.03723247986618974, 0.7818820771899845, 0.01861623993309487, 0.44175459875587314, 0.22718807936016333, 0.022438328825695145, 0.2977753221243293, 0.010284234045110275, 0.017530106561957214, 0.26295159842935817, 0.12271074593370049, 0.07012042624782885, 0.5259031968587163, 0.8204057592544126, 0.06372083567024564, 0.06372083567024564, 0.03186041783512282, 0.01593020891756141, 0.8959410369928582, 0.024546329780626253, 0.030682912225782816, 0.04295607711609594, 0.006136582445156563, 0.7789650392569952, 0.15315803097441977, 0.006587442192448162, 0.04775895589524918, 0.014821744933008365, 0.06344973210165157, 0.8882962494231219, 0.10564849603071648, 0.35730558769938947, 0.2682759562128306, 0.1934910657641212, 0.07478489044870942, 0.03011003196166224, 0.021507165686901596, 0.22797595628115694, 0.6538178368818086, 0.06882293019808511, 0.14970538257749905, 0.04491161477324971, 0.04491161477324971, 0.7335563746297453, 0.029941076515499807, 0.026900303384532465, 0.13450151692266232, 0.8070091015359739, 0.16590132720582693, 0.04147533180145673, 0.7465559724262211, 0.03420633414321515, 0.23196170340867775, 0.6199898063457746, 0.026723698549386835, 0.08658478330001335, 0.9415915819611277, 0.11930242432479995, 0.09478822754573146, 0.6741404114243833, 0.09887392700890955, 0.012257098389534241, 0.8924737716627915, 0.8915132206160816, 0.9089304227432035, 0.14181093023379948, 0.1063581976753496, 0.7090546511689974, 0.012841078932385345, 0.9630809199289009, 0.08020357986043745, 0.013367263310072909, 0.026734526620145818, 0.8154030619144474, 0.06683631655036454, 0.03586670040656366, 0.8966675101640915, 0.011955566802187886, 0.047822267208751545, 0.011955566802187886, 0.9276539728725381, 0.03567899895663608, 0.03567899895663608, 0.9494633146710454, 0.047020717194602164, 0.047020717194602164, 0.893393626697441, 0.08851983409127169, 0.08851983409127169, 0.8851983409127169, 0.29814259094825135, 0.176076964944076, 0.21928603609599645, 0.29814259094825135, 0.008641814230384097, 0.30382008556333856, 0.3687136960720128, 0.1386363497230768, 0.056044481802945946, 0.13568664015450072, 0.9292983340628416, 0.040404275394036585, 0.22179429509832246, 0.11089714754916123, 0.07393143169944082, 0.5914514535955265, 0.16893961497766397, 0.19005706684987198, 0.16290605729989027, 0.35899668182753597, 0.1176543747165874, 0.9115448217050164, 0.03376091932240802, 0.7592764809722395, 0.9222675496086338, 0.0311617401300431, 0.0311617401300431, 0.1869704407802586, 0.7478817631210344, 0.09305229905461988, 0.09305229905461988, 0.7444183924369591, 0.1713809505325523, 0.3042493279117221, 0.2532201684834902, 0.24936891116815196, 0.02214472956319496, 0.8599175997892904, 0.0497472991613639, 0.03553378511525993, 0.05685405618441589, 0.9814147042270358, 0.25637867160959527, 0.5412438622869233, 0.09614200185359824, 0.09080077952839834, 0.017804074417333005, 0.9024667531729357, 0.9131999419570687, 0.048063154839845725, 0.024031577419922862, 0.10706149779189277, 0.7494304845432493, 0.0994142479496147, 0.03823624921139027, 0.06626434779103231, 0.11683450794734644, 0.5405775740847373, 0.26680118979020906, 0.006975194504319191, 0.9215930002192914, 0.9599078342574127, 0.6483441971603462, 0.050328088364045134, 0.07105141886688725, 0.23091711131738354, 0.9846843810909287, 0.982179573043988, 0.007052895655240375, 0.9380351221469698, 0.021158686965721124, 0.0282115826209615, 0.007052895655240375, 0.04225992753641552, 0.060748645833597306, 0.5573027943864797, 0.19016967391386982, 0.15055099184848028, 0.8793505871680155, 0.1225405582329597, 0.796513628514238, 0.015519149284194858, 0.8380340613465224, 0.015519149284194858, 0.07759574642097429, 0.06207659713677943, 0.024144939525662393, 0.12072469762831196, 0.8330004136353526, 0.012072469762831196, 0.006036234881415598, 0.01823848743613511, 0.3321615439126424, 0.578104783581737, 0.05471546230840532, 0.016580443123759187, 0.9656409163568421, 0.07866346154706956, 0.3247847465390372, 0.32657255248328876, 0.17699278848090652, 0.09296590910108221, 0.15495669024732434, 0.2454931834255363, 0.27857382516372914, 0.21589471450189007, 0.10620627084367174, 0.9304834208713376, 0.050296401128180415, 0.9149102106263057, 0.0036283080886889037, 0.1015926264832893, 0.8562807089305813, 0.032654772798200137, 0.007256616177377807, 0.8721071473223421, 0.03307992627774401, 0.06315258653023856, 0.021050862176746187, 0.012029064100997822, 0.8075300140618393, 0.035495824793927, 0.05768071529013138, 0.05768071529013138, 0.04436978099240875, 0.21851012776674597, 0.3826399069942565, 0.2165326605471374, 0.15226497590985918, 0.03065074190393269, 0.17186547135564212, 0.6283831296440665, 0.05907875577850198, 0.10070242462244657, 0.04028096984897862, 0.7651883009375846, 0.036245761623359275, 0.12081920541119757, 0.07249152324671855, 0.00805461369407984, 0.9563327738014499, 0.0684645789789496, 0.027067391689352165, 0.8454579404144706, 0.055726982889842694, 0.0031843990222767257, 0.017442818681430036, 0.12209973077001025, 0.8721409340715017, 0.017558914446564235, 0.9130635512213402, 0.0526767433396927, 0.017558914446564235, 0.44409459765583853, 0.19789713943878, 0.1898470863090669, 0.13685090320512244, 0.03152937475804292, 0.9094681546537089, 0.1459749610738758, 0.15703367024613915, 0.12164580089489652, 0.4843714617451334, 0.09068141521255922, 0.2531481051639028, 0.07461207310093976, 0.48098139981141524, 0.15322122154657272, 0.03997075344693202, 0.08967203047249626, 0.12789289591978975, 0.5938934477194835, 0.1675837946535176, 0.020580466010081108, 0.2674474946602442, 0.26859043267161276, 0.024001698238739863, 0.4331735063086861, 0.00914350409094852, 0.298741594799851, 0.05175051248501357, 0.5982672882737174, 0.04704592044092142, 0.004704592044092143, 0.9434746367639747, 0.9514433728276706], \"Term\": [\"access\", \"access\", \"access\", \"access\", \"access\", \"according\", \"according\", \"according\", \"account\", \"account\", \"account\", \"account\", \"account\", \"accounts\", \"accounts\", \"accounts\", \"accounts\", \"accounts\", \"acknowledged\", \"actions\", \"activity\", \"activity\", \"activity\", \"addicted\", \"addictive\", \"address\", \"address\", \"address\", \"address\", \"address\", \"ads\", \"ads\", \"ads\", \"ads\", \"ads\", \"adverts\", \"adverts\", \"ae\", \"africa\", \"alexa\", \"alexa\", \"alexa\", \"alexa\", \"ali\", \"amateur\", \"annoying\", \"annoying\", \"annoying\", \"annoying\", \"annoying\", \"anticonsumer\", \"anything\", \"anything\", \"anything\", \"anything\", \"anything\", \"anyways\", \"ap\", \"ap\", \"apartment\", \"arabia\", \"arrive\", \"arrive\", \"arrive\", \"arrive\", \"arrived\", \"arrived\", \"arrived\", \"arrived\", \"autoplay\", \"avoiding\", \"awful\", \"awful\", \"awful\", \"awful\", \"awful\", \"back\", \"back\", \"back\", \"back\", \"back\", \"bad\", \"bad\", \"bad\", \"bad\", \"bad\", \"balance\", \"balance\", \"balance\", \"bank\", \"bank\", \"bank\", \"bank\", \"bank\", \"bar\", \"bar\", \"bar\", \"bar\", \"blah\", \"blank\", \"blank\", \"blank\", \"blocked\", \"blocked\", \"blocked\", \"blocked\", \"blocked\", \"bogged\", \"boring\", \"bot\", \"bot\", \"bottom\", \"bottom\", \"bottom\", \"bottom\", \"bucks\", \"bugged\", \"busy\", \"busy\", \"buy\", \"buy\", \"buy\", \"buy\", \"buy\", \"cancelation\", \"cant\", \"cant\", \"cant\", \"cant\", \"cant\", \"card\", \"card\", \"card\", \"card\", \"card\", \"cards\", \"cards\", \"cards\", \"cards\", \"cards\", \"carrier\", \"carrier\", \"carrier\", \"carrying\", \"cautious\", \"cell\", \"cell\", \"cell\", \"cell\", \"change\", \"change\", \"change\", \"change\", \"change\", \"changed\", \"changed\", \"changed\", \"changed\", \"changed\", \"charged\", \"charged\", \"charged\", \"charged\", \"charged\", \"children\", \"cleared\", \"cleared\", \"cleared\", \"cleared\", \"click\", \"click\", \"click\", \"click\", \"click\", \"colour\", \"colour\", \"come\", \"come\", \"come\", \"come\", \"come\", \"compensate\", \"compensation\", \"compensation\", \"confusing\", \"confusing\", \"confusing\", \"confusing\", \"confusing\", \"context\", \"context\", \"context\", \"context\", \"cookies\", \"cookies\", \"cp\", \"crashes\", \"crashes\", \"crashes\", \"crashes\", \"crashes\", \"crashing\", \"crashing\", \"crashing\", \"crashing\", \"credentials\", \"credit\", \"credit\", \"credit\", \"credit\", \"customer\", \"customer\", \"customer\", \"customer\", \"customer\", \"damaged\", \"damaged\", \"damaged\", \"damaged\", \"damaged\", \"dark\", \"dark\", \"dark\", \"dat\", \"dated\", \"day\", \"day\", \"day\", \"day\", \"day\", \"days\", \"days\", \"days\", \"days\", \"days\", \"debit\", \"debit\", \"delay\", \"delay\", \"delayed\", \"delayed\", \"delayed\", \"delayed\", \"deliver\", \"deliver\", \"deliver\", \"deliver\", \"delivered\", \"delivered\", \"delivered\", \"delivered\", \"delivered\", \"delivery\", \"delivery\", \"delivery\", \"delivery\", \"delivery\", \"desk\", \"development\", \"development\", \"development\", \"didnt\", \"didnt\", \"didnt\", \"didnt\", \"didnt\", \"difficult\", \"difficult\", \"difficult\", \"difficult\", \"difficult\", \"displays\", \"displays\", \"dissatisfied\", \"dissatisfied\", \"dissatisfied\", \"doesnt\", \"doesnt\", \"doesnt\", \"doesnt\", \"doesnt\", \"dog\", \"dog\", \"dog\", \"dogs\", \"dogs\", \"dont\", \"dont\", \"dont\", \"dont\", \"dont\", \"door\", \"door\", \"door\", \"door\", \"driver\", \"driver\", \"driver\", \"drivers\", \"drivers\", \"drivers\", \"ear\", \"easy\", \"easy\", \"easy\", \"easy\", \"easy\", \"email\", \"email\", \"email\", \"email\", \"email\", \"end\", \"end\", \"end\", \"end\", \"end\", \"english\", \"english\", \"english\", \"english\", \"english\", \"error\", \"error\", \"error\", \"error\", \"error\", \"etsy\", \"even\", \"even\", \"even\", \"even\", \"even\", \"every\", \"every\", \"every\", \"every\", \"every\", \"experience\", \"experience\", \"experience\", \"experience\", \"experience\", \"expiration\", \"express\", \"express\", \"favorites\", \"feature\", \"feature\", \"feature\", \"feature\", \"feature\", \"fell\", \"field\", \"file\", \"file\", \"filter\", \"filter\", \"filter\", \"filter\", \"filtering\", \"filtering\", \"filtering\", \"filters\", \"filters\", \"filters\", \"filters\", \"find\", \"find\", \"find\", \"find\", \"find\", \"fired\", \"fired\", \"fix\", \"fix\", \"fix\", \"fix\", \"fix\", \"flag\", \"flagged\", \"flashes\", \"flaws\", \"flickers\", \"fold\", \"frankly\", \"french\", \"friendly\", \"friendly\", \"friendly\", \"friendly\", \"frustrating\", \"frustrating\", \"frustrating\", \"frustrating\", \"frustrating\", \"german\", \"gift\", \"gift\", \"gift\", \"gift\", \"gift\", \"go\", \"go\", \"go\", \"go\", \"go\", \"got\", \"got\", \"got\", \"got\", \"got\", \"guaranteed\", \"hacked\", \"hacked\", \"hacked\", \"hard\", \"hard\", \"hard\", \"hard\", \"hard\", \"hate\", \"hate\", \"hate\", \"hate\", \"hate\", \"help\", \"help\", \"help\", \"help\", \"help\", \"horrible\", \"horrible\", \"horrible\", \"horrible\", \"horrible\", \"house\", \"house\", \"house\", \"house\", \"house\", \"human\", \"human\", \"im\", \"im\", \"im\", \"im\", \"im\", \"inspire\", \"installation\", \"invasion\", \"irrelevant\", \"irrelevant\", \"irrelevant\", \"irrelevant\", \"item\", \"item\", \"item\", \"item\", \"item\", \"items\", \"items\", \"items\", \"items\", \"items\", \"ive\", \"ive\", \"ive\", \"ive\", \"ive\", \"jumping\", \"keeps\", \"keeps\", \"keeps\", \"keeps\", \"keeps\", \"knew\", \"known\", \"language\", \"language\", \"language\", \"language\", \"late\", \"late\", \"late\", \"late\", \"launch\", \"launch\", \"layout\", \"layout\", \"layout\", \"layout\", \"less\", \"less\", \"less\", \"less\", \"less\", \"lie\", \"lie\", \"lie\", \"lie\", \"load\", \"load\", \"load\", \"load\", \"load\", \"loading\", \"loading\", \"loading\", \"loading\", \"loading\", \"lock\", \"lock\", \"lock\", \"lock\", \"lockdown\", \"locked\", \"locked\", \"locked\", \"locked\", \"locked\", \"login\", \"login\", \"login\", \"login\", \"login\", \"logineven\", \"loosing\", \"loosing\", \"loosing\", \"loosing\", \"lord\", \"lord\", \"mail\", \"mail\", \"mail\", \"mailbox\", \"makes\", \"makes\", \"makes\", \"makes\", \"makes\", \"map\", \"map\", \"map\", \"mb\", \"menu\", \"menu\", \"menu\", \"menu\", \"menu\", \"menus\", \"menus\", \"message\", \"message\", \"message\", \"message\", \"message\", \"miles\", \"mode\", \"mode\", \"money\", \"money\", \"money\", \"money\", \"money\", \"moved\", \"moved\", \"moved\", \"moved\", \"moving\", \"moving\", \"moving\", \"much\", \"much\", \"much\", \"much\", \"much\", \"navigate\", \"navigate\", \"navigate\", \"navigate\", \"never\", \"never\", \"never\", \"never\", \"never\", \"new\", \"new\", \"new\", \"new\", \"new\", \"nl\", \"notes\", \"notification\", \"notification\", \"notification\", \"notification\", \"notification\", \"notifications\", \"notifications\", \"notifications\", \"notifications\", \"notifications\", \"now\", \"now\", \"now\", \"now\", \"now\", \"number\", \"number\", \"number\", \"number\", \"number\", \"office\", \"office\", \"oh\", \"oh\", \"oh\", \"oh\", \"one\", \"one\", \"one\", \"one\", \"one\", \"oops\", \"oops\", \"oops\", \"oops\", \"open\", \"open\", \"open\", \"open\", \"open\", \"operation\", \"option\", \"option\", \"option\", \"option\", \"option\", \"optional\", \"options\", \"options\", \"options\", \"options\", \"options\", \"order\", \"order\", \"order\", \"order\", \"order\", \"ordered\", \"ordered\", \"ordered\", \"ordered\", \"ordered\", \"orders\", \"orders\", \"orders\", \"orders\", \"orders\", \"overseas\", \"owe\", \"owe\", \"package\", \"package\", \"package\", \"package\", \"package\", \"packages\", \"packages\", \"packages\", \"packages\", \"packages\", \"packaging\", \"packaging\", \"page\", \"page\", \"page\", \"page\", \"page\", \"pakistan\", \"parcel\", \"parcel\", \"password\", \"password\", \"password\", \"password\", \"password\", \"pay\", \"pay\", \"pay\", \"pay\", \"pay\", \"pic\", \"please\", \"please\", \"please\", \"please\", \"please\", \"pm\", \"pm\", \"poor\", \"poor\", \"poor\", \"poor\", \"poor\", \"porch\", \"porch\", \"postage\", \"practical\", \"prime\", \"prime\", \"prime\", \"prime\", \"prime\", \"problem\", \"problem\", \"problem\", \"problem\", \"problem\", \"product\", \"product\", \"product\", \"product\", \"product\", \"products\", \"products\", \"products\", \"products\", \"products\", \"purchase\", \"purchase\", \"purchase\", \"purchase\", \"purchase\", \"questionable\", \"rain\", \"raise\", \"rats\", \"really\", \"really\", \"really\", \"really\", \"really\", \"reboot\", \"receive\", \"receive\", \"receive\", \"receive\", \"receive\", \"recommend\", \"recommend\", \"recommend\", \"recommend\", \"recommend\", \"redesign\", \"refine\", \"refresh\", \"refresh\", \"refresh\", \"refund\", \"refund\", \"refund\", \"refund\", \"refund\", \"refused\", \"refused\", \"refused\", \"refused\", \"reinstalled\", \"reinstalled\", \"reinstalled\", \"reinstalled\", \"reinstalled\", \"reloading\", \"renewal\", \"renewal\", \"repair\", \"resident\", \"results\", \"results\", \"results\", \"results\", \"results\", \"rufus\", \"said\", \"said\", \"said\", \"said\", \"said\", \"saturday\", \"saudi\", \"saudi\", \"screen\", \"screen\", \"screen\", \"screen\", \"screen\", \"scroll\", \"scroll\", \"scroll\", \"scroll\", \"scroll\", \"search\", \"search\", \"search\", \"search\", \"search\", \"security\", \"security\", \"security\", \"security\", \"security\", \"see\", \"see\", \"see\", \"see\", \"see\", \"serious\", \"serious\", \"serious\", \"serious\", \"service\", \"service\", \"service\", \"service\", \"service\", \"setting\", \"setting\", \"setting\", \"setting\", \"setting\", \"ship\", \"ship\", \"ship\", \"ship\", \"ship\", \"shipped\", \"shipped\", \"shipped\", \"shipped\", \"shipped\", \"shipping\", \"shipping\", \"shipping\", \"shipping\", \"shipping\", \"shopper\", \"shopper\", \"shopping\", \"shopping\", \"shopping\", \"shopping\", \"shopping\", \"sign\", \"sign\", \"sign\", \"sign\", \"sign\", \"signed\", \"signed\", \"signed\", \"signed\", \"signed\", \"signing\", \"signing\", \"signing\", \"silly\", \"silly\", \"silly\", \"slow\", \"slow\", \"slow\", \"slow\", \"slow\", \"slows\", \"something\", \"something\", \"something\", \"something\", \"something\", \"somewhat\", \"songs\", \"sound\", \"spam\", \"spam\", \"spam\", \"spanish\", \"spanish\", \"speak\", \"speak\", \"speak\", \"speak\", \"speak\", \"specific\", \"specific\", \"specific\", \"specific\", \"specific\", \"sponsored\", \"sponsored\", \"sponsored\", \"spot\", \"statement\", \"statement\", \"statement\", \"steals\", \"steals\", \"steals\", \"still\", \"still\", \"still\", \"still\", \"still\", \"stop\", \"stop\", \"stop\", \"stop\", \"stop\", \"style\", \"style\", \"subscription\", \"subscription\", \"subscription\", \"subscription\", \"support\", \"support\", \"support\", \"support\", \"support\", \"suppose\", \"suppose\", \"survive\", \"suspended\", \"suspicious\", \"suspicious\", \"suspicious\", \"suspicious\", \"switched\", \"switched\", \"switched\", \"terrible\", \"terrible\", \"terrible\", \"terrible\", \"terrible\", \"th\", \"th\", \"th\", \"th\", \"theme\", \"things\", \"things\", \"things\", \"things\", \"things\", \"throws\", \"tomorrow\", \"tomorrow\", \"tomorrow\", \"top\", \"top\", \"top\", \"top\", \"try\", \"try\", \"try\", \"try\", \"try\", \"tuesday\", \"twitch\", \"two\", \"two\", \"two\", \"two\", \"uh\", \"uhoh\", \"ui\", \"ui\", \"ui\", \"ui\", \"ui\", \"unable\", \"unable\", \"unable\", \"unable\", \"unable\", \"underground\", \"unlocked\", \"unlocked\", \"unnecessary\", \"unnecessary\", \"unnecessary\", \"unnecessary\", \"unnecessary\", \"unusable\", \"unusable\", \"unusable\", \"unusable\", \"unusable\", \"update\", \"update\", \"update\", \"update\", \"update\", \"upi\", \"use\", \"use\", \"use\", \"use\", \"use\", \"using\", \"using\", \"using\", \"using\", \"using\", \"usps\", \"usps\", \"vibration\", \"view\", \"view\", \"view\", \"view\", \"view\", \"wait\", \"wait\", \"wait\", \"wait\", \"wait\", \"waiting\", \"waiting\", \"waiting\", \"waiting\", \"waiting\", \"want\", \"want\", \"want\", \"want\", \"want\", \"way\", \"way\", \"way\", \"way\", \"way\", \"week\", \"week\", \"week\", \"week\", \"week\", \"weekly\", \"went\", \"went\", \"went\", \"went\", \"went\", \"white\", \"white\", \"white\", \"wifi\", \"wifi\", \"wifi\", \"wifi\", \"will\", \"will\", \"will\", \"will\", \"will\", \"wiped\", \"without\", \"without\", \"without\", \"without\", \"without\", \"wont\", \"wont\", \"wont\", \"wont\", \"wont\", \"work\", \"work\", \"work\", \"work\", \"work\", \"worst\", \"worst\", \"worst\", \"worst\", \"worst\", \"wrong\", \"wrong\", \"wrong\", \"wrong\", \"wrong\", \"\\u0627\\u0645\\u0627\\u0632\\u0648\\u0646\", \"\\u0645\\u0635\\u0631\"]}, \"R\": 30, \"lambda.step\": 0.01, \"plot.opts\": {\"xlab\": \"PC1\", \"ylab\": \"PC2\"}, \"topic.order\": [2, 4, 3, 5, 1]};\n",
              "\n",
              "function LDAvis_load_lib(url, callback){\n",
              "  var s = document.createElement('script');\n",
              "  s.src = url;\n",
              "  s.async = true;\n",
              "  s.onreadystatechange = s.onload = callback;\n",
              "  s.onerror = function(){console.warn(\"failed to load library \" + url);};\n",
              "  document.getElementsByTagName(\"head\")[0].appendChild(s);\n",
              "}\n",
              "\n",
              "if(typeof(LDAvis) !== \"undefined\"){\n",
              "   // already loaded: just create the visualization\n",
              "   !function(LDAvis){\n",
              "       new LDAvis(\"#\" + \"ldavis_el4661349116307244483245849329\", ldavis_el4661349116307244483245849329_data);\n",
              "   }(LDAvis);\n",
              "}else if(typeof define === \"function\" && define.amd){\n",
              "   // require.js is available: use it to load d3/LDAvis\n",
              "   require.config({paths: {d3: \"https://d3js.org/d3.v5\"}});\n",
              "   require([\"d3\"], function(d3){\n",
              "      window.d3 = d3;\n",
              "      LDAvis_load_lib(\"https://cdn.jsdelivr.net/gh/bmabey/pyLDAvis@3.4.0/pyLDAvis/js/ldavis.v3.0.0.js\", function(){\n",
              "        new LDAvis(\"#\" + \"ldavis_el4661349116307244483245849329\", ldavis_el4661349116307244483245849329_data);\n",
              "      });\n",
              "    });\n",
              "}else{\n",
              "    // require.js not available: dynamically load d3 & LDAvis\n",
              "    LDAvis_load_lib(\"https://d3js.org/d3.v5.js\", function(){\n",
              "         LDAvis_load_lib(\"https://cdn.jsdelivr.net/gh/bmabey/pyLDAvis@3.4.0/pyLDAvis/js/ldavis.v3.0.0.js\", function(){\n",
              "                 new LDAvis(\"#\" + \"ldavis_el4661349116307244483245849329\", ldavis_el4661349116307244483245849329_data);\n",
              "            })\n",
              "         });\n",
              "}\n",
              "</script>"
            ]
          },
          "metadata": {},
          "execution_count": 83
        }
      ]
    },
    {
      "cell_type": "code",
      "source": [],
      "metadata": {
        "colab": {
          "base_uri": "https://localhost:8080/"
        },
        "id": "yvSDE0FyHx5a",
        "outputId": "65b8940f-0c22-4034-bc25-f7288357eeec"
      },
      "execution_count": null,
      "outputs": [
        {
          "output_type": "stream",
          "name": "stderr",
          "text": [
            "/usr/local/lib/python3.10/dist-packages/ipykernel/ipkernel.py:283: DeprecationWarning: `should_run_async` will not call `transform_cell` automatically in the future. Please pass the result to `transformed_cell` argument and any exception that happen during thetransform in `preprocessing_exc_tuple` in IPython 7.17 and above.\n",
            "  and should_run_async(code)\n"
          ]
        }
      ]
    }
  ]
}